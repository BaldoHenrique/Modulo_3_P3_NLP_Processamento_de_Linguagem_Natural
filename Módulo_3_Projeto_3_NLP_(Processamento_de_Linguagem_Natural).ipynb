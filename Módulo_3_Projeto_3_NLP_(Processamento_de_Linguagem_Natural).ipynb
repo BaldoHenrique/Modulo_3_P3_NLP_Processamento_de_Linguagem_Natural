{
  "nbformat": 4,
  "nbformat_minor": 0,
  "metadata": {
    "colab": {
      "name": "Módulo 3 - Projeto 3 -  NLP (Processamento de Linguagem Natural)",
      "provenance": [],
      "collapsed_sections": [
        "Kp5tcZ8Z1wvU",
        "ZJTBwnRS13no"
      ]
    },
    "kernelspec": {
      "name": "python3",
      "display_name": "Python 3"
    },
    "language_info": {
      "name": "python"
    }
  },
  "cells": [
    {
      "cell_type": "markdown",
      "source": [
        "#Projeto 3 - Análise de sentimento sobre o mercado financeiro"
      ],
      "metadata": {
        "id": "jqy3k2vz1ddv"
      }
    },
    {
      "cell_type": "markdown",
      "source": [
        "- Entrega\n",
        "\n",
        "O projeto deve ser entregue até a terça-feira da 4ª semana de aula, envie o link do GitHub ou HTML na atividade no Moodle.\n",
        "\n",
        "O prazo máximo é quarta-feira da 4ª semana de aula, valendo 20% a menos da nota."
      ],
      "metadata": {
        "id": "Nu6lu-3V1k46"
      }
    },
    {
      "cell_type": "markdown",
      "source": [
        "- Dados do Certificado\n",
        "\n",
        "Linguagem: Python\n",
        "\n",
        "Tecnologias: Pandas, Numpy, Spacy, Matplotlib e Sklearn\n",
        "\n",
        "Carga horária: 20 horas"
      ],
      "metadata": {
        "id": "y-wmi0GW1qaE"
      }
    },
    {
      "cell_type": "markdown",
      "source": [
        "- Financial Sentiment Analysis\n",
        "\n",
        "Este conjunto de dados reúne diversos textos sobre o mercado financeiro e categoriza cada texto em positivo, negativo e neutro."
      ],
      "metadata": {
        "id": "Xi3Mp6Yc1tqb"
      }
    },
    {
      "cell_type": "markdown",
      "source": [
        "##Sobre este projeto\n",
        "Os principais pontos que serão avaliados:\n",
        "- Extração de dados\n",
        "- Manipulação de dados e criação de gráficos simples com o Pandas\n",
        "- Criar um modelo de predição\n",
        "- Apresentação dos resultados"
      ],
      "metadata": {
        "id": "Kp5tcZ8Z1wvU"
      }
    },
    {
      "cell_type": "markdown",
      "source": [
        "##Preparação do ambiente\n",
        "- Para este projeto, acessem o link do dataset e logo abaixo cliquem em \"Download\". Caso você não tenha uma conta no Kaggle, crie uma e retorne para esse ponto para realizar o download. Descompacte o arquivo.\n",
        "- Este conjunto de dados está em inglês, use o Spacy e os demais dados auxiliares em inglês.\n",
        "- Caso demore demais para executar ou que ocorra estouro de memória, use somente 40% dos dados."
      ],
      "metadata": {
        "id": "ZJTBwnRS13no"
      }
    },
    {
      "cell_type": "markdown",
      "source": [
        "#Exercícios"
      ],
      "metadata": {
        "id": "K9RDpXv018AH"
      }
    },
    {
      "cell_type": "markdown",
      "source": [
        "## Exercício 1  \n",
        "Construa as funções e a pipeline, separe os dados em treino e teste, execute a pipeline para classificar em positivo, negativo e neutro. Quais foram os valores de acurácia, precisão e sensitividade deste modelo? (3.0 pontos)"
      ],
      "metadata": {
        "id": "GiBTPB3Z2BHn"
      }
    },
    {
      "cell_type": "code",
      "source": [
        "import numpy as np\n",
        "import pandas as pd\n",
        "\n",
        "import spacy\n",
        "\n",
        "import seaborn as sns\n",
        "import matplotlib.pyplot as plt \n",
        "\n",
        "from sklearn.model_selection import train_test_split\n",
        "from sklearn.feature_extraction.text import CountVectorizer\n",
        "from sklearn.metrics import accuracy_score, precision_score, recall_score\n",
        "from sklearn.base import TransformerMixin \n",
        "from sklearn.pipeline import Pipeline\n",
        "from sklearn.svm import SVC"
      ],
      "metadata": {
        "id": "Nat7UlMqjZac"
      },
      "execution_count": null,
      "outputs": []
    },
    {
      "cell_type": "code",
      "source": [
        "from sklearn.ensemble import RandomForestClassifier\n",
        "from sklearn.neighbors import KNeighborsClassifier\n",
        "from sklearn.linear_model import LogisticRegression\n",
        "from sklearn.tree import DecisionTreeClassifier\n",
        "from sklearn.ensemble import AdaBoostClassifier\n",
        "from sklearn.naive_bayes import GaussianNB, MultinomialNB, BernoulliNB\n",
        "import lightgbm as lgb"
      ],
      "metadata": {
        "id": "aYUA4_QwZBs4"
      },
      "execution_count": null,
      "outputs": []
    },
    {
      "cell_type": "code",
      "source": [
        "df = pd.read_csv('/content/data.csv')\n",
        "df.head()"
      ],
      "metadata": {
        "colab": {
          "base_uri": "https://localhost:8080/",
          "height": 206
        },
        "id": "MDbGutjuZDzo",
        "outputId": "4063e24b-e038-4936-8899-97d782819f0b"
      },
      "execution_count": null,
      "outputs": [
        {
          "output_type": "execute_result",
          "data": {
            "text/plain": [
              "                                            Sentence Sentiment\n",
              "0  The GeoSolutions technology will leverage Bene...  positive\n",
              "1  $ESI on lows, down $1.50 to $2.50 BK a real po...  negative\n",
              "2  For the last quarter of 2010 , Componenta 's n...  positive\n",
              "3  According to the Finnish-Russian Chamber of Co...   neutral\n",
              "4  The Swedish buyout firm has sold its remaining...   neutral"
            ],
            "text/html": [
              "\n",
              "  <div id=\"df-bb5b3a42-38d9-49f2-b21f-e13e85569dab\">\n",
              "    <div class=\"colab-df-container\">\n",
              "      <div>\n",
              "<style scoped>\n",
              "    .dataframe tbody tr th:only-of-type {\n",
              "        vertical-align: middle;\n",
              "    }\n",
              "\n",
              "    .dataframe tbody tr th {\n",
              "        vertical-align: top;\n",
              "    }\n",
              "\n",
              "    .dataframe thead th {\n",
              "        text-align: right;\n",
              "    }\n",
              "</style>\n",
              "<table border=\"1\" class=\"dataframe\">\n",
              "  <thead>\n",
              "    <tr style=\"text-align: right;\">\n",
              "      <th></th>\n",
              "      <th>Sentence</th>\n",
              "      <th>Sentiment</th>\n",
              "    </tr>\n",
              "  </thead>\n",
              "  <tbody>\n",
              "    <tr>\n",
              "      <th>0</th>\n",
              "      <td>The GeoSolutions technology will leverage Bene...</td>\n",
              "      <td>positive</td>\n",
              "    </tr>\n",
              "    <tr>\n",
              "      <th>1</th>\n",
              "      <td>$ESI on lows, down $1.50 to $2.50 BK a real po...</td>\n",
              "      <td>negative</td>\n",
              "    </tr>\n",
              "    <tr>\n",
              "      <th>2</th>\n",
              "      <td>For the last quarter of 2010 , Componenta 's n...</td>\n",
              "      <td>positive</td>\n",
              "    </tr>\n",
              "    <tr>\n",
              "      <th>3</th>\n",
              "      <td>According to the Finnish-Russian Chamber of Co...</td>\n",
              "      <td>neutral</td>\n",
              "    </tr>\n",
              "    <tr>\n",
              "      <th>4</th>\n",
              "      <td>The Swedish buyout firm has sold its remaining...</td>\n",
              "      <td>neutral</td>\n",
              "    </tr>\n",
              "  </tbody>\n",
              "</table>\n",
              "</div>\n",
              "      <button class=\"colab-df-convert\" onclick=\"convertToInteractive('df-bb5b3a42-38d9-49f2-b21f-e13e85569dab')\"\n",
              "              title=\"Convert this dataframe to an interactive table.\"\n",
              "              style=\"display:none;\">\n",
              "        \n",
              "  <svg xmlns=\"http://www.w3.org/2000/svg\" height=\"24px\"viewBox=\"0 0 24 24\"\n",
              "       width=\"24px\">\n",
              "    <path d=\"M0 0h24v24H0V0z\" fill=\"none\"/>\n",
              "    <path d=\"M18.56 5.44l.94 2.06.94-2.06 2.06-.94-2.06-.94-.94-2.06-.94 2.06-2.06.94zm-11 1L8.5 8.5l.94-2.06 2.06-.94-2.06-.94L8.5 2.5l-.94 2.06-2.06.94zm10 10l.94 2.06.94-2.06 2.06-.94-2.06-.94-.94-2.06-.94 2.06-2.06.94z\"/><path d=\"M17.41 7.96l-1.37-1.37c-.4-.4-.92-.59-1.43-.59-.52 0-1.04.2-1.43.59L10.3 9.45l-7.72 7.72c-.78.78-.78 2.05 0 2.83L4 21.41c.39.39.9.59 1.41.59.51 0 1.02-.2 1.41-.59l7.78-7.78 2.81-2.81c.8-.78.8-2.07 0-2.86zM5.41 20L4 18.59l7.72-7.72 1.47 1.35L5.41 20z\"/>\n",
              "  </svg>\n",
              "      </button>\n",
              "      \n",
              "  <style>\n",
              "    .colab-df-container {\n",
              "      display:flex;\n",
              "      flex-wrap:wrap;\n",
              "      gap: 12px;\n",
              "    }\n",
              "\n",
              "    .colab-df-convert {\n",
              "      background-color: #E8F0FE;\n",
              "      border: none;\n",
              "      border-radius: 50%;\n",
              "      cursor: pointer;\n",
              "      display: none;\n",
              "      fill: #1967D2;\n",
              "      height: 32px;\n",
              "      padding: 0 0 0 0;\n",
              "      width: 32px;\n",
              "    }\n",
              "\n",
              "    .colab-df-convert:hover {\n",
              "      background-color: #E2EBFA;\n",
              "      box-shadow: 0px 1px 2px rgba(60, 64, 67, 0.3), 0px 1px 3px 1px rgba(60, 64, 67, 0.15);\n",
              "      fill: #174EA6;\n",
              "    }\n",
              "\n",
              "    [theme=dark] .colab-df-convert {\n",
              "      background-color: #3B4455;\n",
              "      fill: #D2E3FC;\n",
              "    }\n",
              "\n",
              "    [theme=dark] .colab-df-convert:hover {\n",
              "      background-color: #434B5C;\n",
              "      box-shadow: 0px 1px 3px 1px rgba(0, 0, 0, 0.15);\n",
              "      filter: drop-shadow(0px 1px 2px rgba(0, 0, 0, 0.3));\n",
              "      fill: #FFFFFF;\n",
              "    }\n",
              "  </style>\n",
              "\n",
              "      <script>\n",
              "        const buttonEl =\n",
              "          document.querySelector('#df-bb5b3a42-38d9-49f2-b21f-e13e85569dab button.colab-df-convert');\n",
              "        buttonEl.style.display =\n",
              "          google.colab.kernel.accessAllowed ? 'block' : 'none';\n",
              "\n",
              "        async function convertToInteractive(key) {\n",
              "          const element = document.querySelector('#df-bb5b3a42-38d9-49f2-b21f-e13e85569dab');\n",
              "          const dataTable =\n",
              "            await google.colab.kernel.invokeFunction('convertToInteractive',\n",
              "                                                     [key], {});\n",
              "          if (!dataTable) return;\n",
              "\n",
              "          const docLinkHtml = 'Like what you see? Visit the ' +\n",
              "            '<a target=\"_blank\" href=https://colab.research.google.com/notebooks/data_table.ipynb>data table notebook</a>'\n",
              "            + ' to learn more about interactive tables.';\n",
              "          element.innerHTML = '';\n",
              "          dataTable['output_type'] = 'display_data';\n",
              "          await google.colab.output.renderOutput(dataTable, element);\n",
              "          const docLink = document.createElement('div');\n",
              "          docLink.innerHTML = docLinkHtml;\n",
              "          element.appendChild(docLink);\n",
              "        }\n",
              "      </script>\n",
              "    </div>\n",
              "  </div>\n",
              "  "
            ]
          },
          "metadata": {},
          "execution_count": 3
        }
      ]
    },
    {
      "cell_type": "markdown",
      "source": [
        "Aqui podemos ver quantas linhas tem a nossa base dados:"
      ],
      "metadata": {
        "id": "k3ZmZuYNh3y0"
      }
    },
    {
      "cell_type": "code",
      "source": [
        "df.shape"
      ],
      "metadata": {
        "colab": {
          "base_uri": "https://localhost:8080/"
        },
        "id": "J44WRFPdjkc9",
        "outputId": "65e5d68a-46c1-4d4e-8cdb-dd70ff07a550"
      },
      "execution_count": null,
      "outputs": [
        {
          "output_type": "execute_result",
          "data": {
            "text/plain": [
              "(5842, 2)"
            ]
          },
          "metadata": {},
          "execution_count": 4
        }
      ]
    },
    {
      "cell_type": "markdown",
      "source": [
        "Podemos ver também que tipo de dados estamos trabalhando, no caso são textos"
      ],
      "metadata": {
        "id": "riVNf3kJh9y0"
      }
    },
    {
      "cell_type": "code",
      "source": [
        "df.info()"
      ],
      "metadata": {
        "colab": {
          "base_uri": "https://localhost:8080/"
        },
        "id": "ASJqZDGdlKTP",
        "outputId": "6a9d0ec4-4530-478d-a3b9-20144122efe4"
      },
      "execution_count": null,
      "outputs": [
        {
          "output_type": "stream",
          "name": "stdout",
          "text": [
            "<class 'pandas.core.frame.DataFrame'>\n",
            "RangeIndex: 5842 entries, 0 to 5841\n",
            "Data columns (total 2 columns):\n",
            " #   Column     Non-Null Count  Dtype \n",
            "---  ------     --------------  ----- \n",
            " 0   Sentence   5842 non-null   object\n",
            " 1   Sentiment  5842 non-null   object\n",
            "dtypes: object(2)\n",
            "memory usage: 91.4+ KB\n"
          ]
        }
      ]
    },
    {
      "cell_type": "markdown",
      "source": [
        "Agora vamos criar as funções que usaremos para criar uma pipeline"
      ],
      "metadata": {
        "id": "p_iqCJgQiemf"
      }
    },
    {
      "cell_type": "code",
      "source": [
        "nlp = spacy.load('en_core_web_sm')"
      ],
      "metadata": {
        "id": "U2WfpmM0jnAC"
      },
      "execution_count": null,
      "outputs": []
    },
    {
      "cell_type": "markdown",
      "source": [
        "Criamos uma classe para gerenciar X e y"
      ],
      "metadata": {
        "id": "hdq-Mj4tiqso"
      }
    },
    {
      "cell_type": "code",
      "source": [
        "class predictors(TransformerMixin):\n",
        "    def transform(self, X, **transform_params):\n",
        "        return [clean_text(text) for text in X]\n",
        "    def fit(self, X, y=None, **fit_params):\n",
        "        return self\n",
        "    def get_params(self, deep=True):\n",
        "        return {}"
      ],
      "metadata": {
        "id": "Nfk5cnS8mAyH"
      },
      "execution_count": null,
      "outputs": []
    },
    {
      "cell_type": "markdown",
      "source": [
        "Esta funcao remove espacos em branco no inicio e no fim do texto e converte todo o texto em letras minusculas"
      ],
      "metadata": {
        "id": "r-tDBjZQivJU"
      }
    },
    {
      "cell_type": "code",
      "source": [
        "def clean_text(texto):     \n",
        "    return texto.strip().lower()"
      ],
      "metadata": {
        "id": "uT1HG46LmICS"
      },
      "execution_count": null,
      "outputs": []
    },
    {
      "cell_type": "markdown",
      "source": [
        "Esta funcao remove todas as stopwords e pontuações"
      ],
      "metadata": {
        "id": "DDFnxVTBizYC"
      }
    },
    {
      "cell_type": "code",
      "source": [
        "def tokenizer(texto):\n",
        "    doc = nlp(texto)\n",
        "    tokens = [token for token in doc if ((not token.is_stop) & (not token.is_punct))]\n",
        "    tokens = [token.lemma_.lower().strip() for token in tokens]\n",
        "    return tokens"
      ],
      "metadata": {
        "id": "OcQlFOLql_In"
      },
      "execution_count": null,
      "outputs": []
    },
    {
      "cell_type": "markdown",
      "source": [
        "Criamos um objeto CountVectorizer para vetorizar cada texto"
      ],
      "metadata": {
        "id": "61QNBGV4i6AV"
      }
    },
    {
      "cell_type": "code",
      "source": [
        "vectorizer = CountVectorizer(tokenizer = tokenizer, ngram_range=(1,1)) "
      ],
      "metadata": {
        "id": "axnJDsOwnBOm"
      },
      "execution_count": null,
      "outputs": []
    },
    {
      "cell_type": "markdown",
      "source": [
        "Criamos um modelo SVM, este será o nosso modelo referência, a partir deste iremos testar outros modelos e comparar"
      ],
      "metadata": {
        "id": "PH3ih2DRjAQ3"
      }
    },
    {
      "cell_type": "code",
      "source": [
        "classifier = SVC()"
      ],
      "metadata": {
        "id": "IhdQn_l0nCWf"
      },
      "execution_count": null,
      "outputs": []
    },
    {
      "cell_type": "markdown",
      "source": [
        "Separando em X e y"
      ],
      "metadata": {
        "id": "RTkWGh_njOYO"
      }
    },
    {
      "cell_type": "code",
      "source": [
        "X = df.Sentence\n",
        "y = df.Sentiment"
      ],
      "metadata": {
        "id": "PuMWIqzJnPYx"
      },
      "execution_count": null,
      "outputs": []
    },
    {
      "cell_type": "markdown",
      "source": [
        "Separando em teste e treino"
      ],
      "metadata": {
        "id": "7HikOf0ijQuq"
      }
    },
    {
      "cell_type": "code",
      "source": [
        "X_train, X_test, y_train, y_test = train_test_split(X, y, test_size=0.2, random_state=10)\n"
      ],
      "metadata": {
        "id": "bjFmQt3KnWZ_"
      },
      "execution_count": null,
      "outputs": []
    },
    {
      "cell_type": "markdown",
      "source": [
        "Construindo uma pipeline"
      ],
      "metadata": {
        "id": "IZV-KASyjUCr"
      }
    },
    {
      "cell_type": "code",
      "source": [
        "pipe = Pipeline([(\"cleaner\", predictors()),\n",
        "                 ('vectorizer', vectorizer),\n",
        "                 ('classifier', classifier)])\n",
        "\n",
        "pipe.fit(X_train,y_train)\n",
        "\n",
        "y_pred = pipe.predict(X_test)"
      ],
      "metadata": {
        "id": "W5bDqryInZmh"
      },
      "execution_count": null,
      "outputs": []
    },
    {
      "cell_type": "markdown",
      "source": [
        "Agora iremos ver as métricas resultantes"
      ],
      "metadata": {
        "id": "SzVooRVnjVXm"
      }
    },
    {
      "cell_type": "code",
      "source": [
        "print('Accuracy Score:',round(accuracy_score(y_test, y_pred), 3))\n",
        "print('Precision Score:',round(precision_score(y_test, y_pred, average='macro'), 3))\n",
        "print('Recall Score',round(recall_score(y_test, y_pred, average='macro'), 3))"
      ],
      "metadata": {
        "colab": {
          "base_uri": "https://localhost:8080/"
        },
        "id": "5GVQo-cYnamR",
        "outputId": "28006dbc-56fe-4315-b4ad-c14e6949f549"
      },
      "execution_count": null,
      "outputs": [
        {
          "output_type": "stream",
          "name": "stdout",
          "text": [
            "Accuracy Score: 0.678\n",
            "Precision Score: 0.57\n",
            "Recall Score 0.52\n"
          ]
        }
      ]
    },
    {
      "cell_type": "markdown",
      "source": [
        "Agora vamos criar uma função para testar mais modelos, no caso vamos testar SVM,KNN,Random_Forest,Reg_Logistica,ADA,MNB,BNB"
      ],
      "metadata": {
        "id": "Mg2XbZ8fYwQd"
      }
    },
    {
      "cell_type": "code",
      "source": [
        "metricas = pd.DataFrame({'Métricas':['Accuracy Score:','Precision Score:','Recall Score:']})\n",
        "def modelos_testes(classifier,modelo): \n",
        "  pipe = Pipeline([(\"cleaner\", predictors()),\n",
        "                  ('vectorizer', vectorizer),\n",
        "                  ('classifier', classifier)])\n",
        "\n",
        "  pipe.fit(X_train,y_train)\n",
        "  y_pred = pipe.predict(X_test)\n",
        "  metricas[modelo] = [round(accuracy_score(y_test, y_pred), 3),round(precision_score(y_test, y_pred, average='macro'), 3),round(recall_score(y_test, y_pred, average='macro'), 3)]\n",
        "  metricas"
      ],
      "metadata": {
        "id": "IEcLeulCpdPF"
      },
      "execution_count": null,
      "outputs": []
    },
    {
      "cell_type": "code",
      "source": [
        "SVM = (SVC(),'SVM')\n",
        "KNN = (KNeighborsClassifier(),'KNN')\n",
        "Random_Forest = (RandomForestClassifier(),'Random Forest')\n",
        "Reg_Logistica = (LogisticRegression(),'Reg Logistica')\n",
        "ADA = (AdaBoostClassifier(),'ADA')\n",
        "MNB = (MultinomialNB(),'MNB')\n",
        "BNB = (BernoulliNB(),'BNB')"
      ],
      "metadata": {
        "id": "YIwH_c6guZI0"
      },
      "execution_count": null,
      "outputs": []
    },
    {
      "cell_type": "markdown",
      "source": [
        "Aqui então chamaremos a função para rodar todos os medelos escolhidos"
      ],
      "metadata": {
        "id": "Gs_HU88KZJ9R"
      }
    },
    {
      "cell_type": "code",
      "source": [
        "for i,j in (SVM,KNN,Random_Forest,Reg_Logistica,ADA,MNB,BNB):\n",
        "  modelos_testes(i,j)"
      ],
      "metadata": {
        "colab": {
          "base_uri": "https://localhost:8080/"
        },
        "id": "iF3w4Jl6qmii",
        "outputId": "5eae6bcf-f851-4dd5-dcd5-c981c5de8ef0"
      },
      "execution_count": null,
      "outputs": [
        {
          "output_type": "stream",
          "name": "stderr",
          "text": [
            "/usr/local/lib/python3.7/dist-packages/sklearn/linear_model/_logistic.py:818: ConvergenceWarning: lbfgs failed to converge (status=1):\n",
            "STOP: TOTAL NO. of ITERATIONS REACHED LIMIT.\n",
            "\n",
            "Increase the number of iterations (max_iter) or scale the data as shown in:\n",
            "    https://scikit-learn.org/stable/modules/preprocessing.html\n",
            "Please also refer to the documentation for alternative solver options:\n",
            "    https://scikit-learn.org/stable/modules/linear_model.html#logistic-regression\n",
            "  extra_warning_msg=_LOGISTIC_SOLVER_CONVERGENCE_MSG,\n"
          ]
        }
      ]
    },
    {
      "cell_type": "code",
      "source": [
        "metricas"
      ],
      "metadata": {
        "colab": {
          "base_uri": "https://localhost:8080/",
          "height": 143
        },
        "id": "zIXNvrYqr-Jt",
        "outputId": "4d84283f-4f77-4c43-aff5-e228ca071f3b"
      },
      "execution_count": null,
      "outputs": [
        {
          "output_type": "execute_result",
          "data": {
            "text/plain": [
              "           Métricas    SVM    KNN  Random Forest  Reg Logistica    ADA    MNB  \\\n",
              "0   Accuracy Score:  0.678  0.603          0.665          0.655  0.688  0.667   \n",
              "1  Precision Score:  0.570  0.553          0.554          0.556  0.640  0.580   \n",
              "2     Recall Score:  0.520  0.445          0.540          0.549  0.581  0.567   \n",
              "\n",
              "     BNB  \n",
              "0  0.660  \n",
              "1  0.538  \n",
              "2  0.497  "
            ],
            "text/html": [
              "\n",
              "  <div id=\"df-97958d32-26f1-4419-8944-7e7bd264fe4b\">\n",
              "    <div class=\"colab-df-container\">\n",
              "      <div>\n",
              "<style scoped>\n",
              "    .dataframe tbody tr th:only-of-type {\n",
              "        vertical-align: middle;\n",
              "    }\n",
              "\n",
              "    .dataframe tbody tr th {\n",
              "        vertical-align: top;\n",
              "    }\n",
              "\n",
              "    .dataframe thead th {\n",
              "        text-align: right;\n",
              "    }\n",
              "</style>\n",
              "<table border=\"1\" class=\"dataframe\">\n",
              "  <thead>\n",
              "    <tr style=\"text-align: right;\">\n",
              "      <th></th>\n",
              "      <th>Métricas</th>\n",
              "      <th>SVM</th>\n",
              "      <th>KNN</th>\n",
              "      <th>Random Forest</th>\n",
              "      <th>Reg Logistica</th>\n",
              "      <th>ADA</th>\n",
              "      <th>MNB</th>\n",
              "      <th>BNB</th>\n",
              "    </tr>\n",
              "  </thead>\n",
              "  <tbody>\n",
              "    <tr>\n",
              "      <th>0</th>\n",
              "      <td>Accuracy Score:</td>\n",
              "      <td>0.678</td>\n",
              "      <td>0.603</td>\n",
              "      <td>0.665</td>\n",
              "      <td>0.655</td>\n",
              "      <td>0.688</td>\n",
              "      <td>0.667</td>\n",
              "      <td>0.660</td>\n",
              "    </tr>\n",
              "    <tr>\n",
              "      <th>1</th>\n",
              "      <td>Precision Score:</td>\n",
              "      <td>0.570</td>\n",
              "      <td>0.553</td>\n",
              "      <td>0.554</td>\n",
              "      <td>0.556</td>\n",
              "      <td>0.640</td>\n",
              "      <td>0.580</td>\n",
              "      <td>0.538</td>\n",
              "    </tr>\n",
              "    <tr>\n",
              "      <th>2</th>\n",
              "      <td>Recall Score:</td>\n",
              "      <td>0.520</td>\n",
              "      <td>0.445</td>\n",
              "      <td>0.540</td>\n",
              "      <td>0.549</td>\n",
              "      <td>0.581</td>\n",
              "      <td>0.567</td>\n",
              "      <td>0.497</td>\n",
              "    </tr>\n",
              "  </tbody>\n",
              "</table>\n",
              "</div>\n",
              "      <button class=\"colab-df-convert\" onclick=\"convertToInteractive('df-97958d32-26f1-4419-8944-7e7bd264fe4b')\"\n",
              "              title=\"Convert this dataframe to an interactive table.\"\n",
              "              style=\"display:none;\">\n",
              "        \n",
              "  <svg xmlns=\"http://www.w3.org/2000/svg\" height=\"24px\"viewBox=\"0 0 24 24\"\n",
              "       width=\"24px\">\n",
              "    <path d=\"M0 0h24v24H0V0z\" fill=\"none\"/>\n",
              "    <path d=\"M18.56 5.44l.94 2.06.94-2.06 2.06-.94-2.06-.94-.94-2.06-.94 2.06-2.06.94zm-11 1L8.5 8.5l.94-2.06 2.06-.94-2.06-.94L8.5 2.5l-.94 2.06-2.06.94zm10 10l.94 2.06.94-2.06 2.06-.94-2.06-.94-.94-2.06-.94 2.06-2.06.94z\"/><path d=\"M17.41 7.96l-1.37-1.37c-.4-.4-.92-.59-1.43-.59-.52 0-1.04.2-1.43.59L10.3 9.45l-7.72 7.72c-.78.78-.78 2.05 0 2.83L4 21.41c.39.39.9.59 1.41.59.51 0 1.02-.2 1.41-.59l7.78-7.78 2.81-2.81c.8-.78.8-2.07 0-2.86zM5.41 20L4 18.59l7.72-7.72 1.47 1.35L5.41 20z\"/>\n",
              "  </svg>\n",
              "      </button>\n",
              "      \n",
              "  <style>\n",
              "    .colab-df-container {\n",
              "      display:flex;\n",
              "      flex-wrap:wrap;\n",
              "      gap: 12px;\n",
              "    }\n",
              "\n",
              "    .colab-df-convert {\n",
              "      background-color: #E8F0FE;\n",
              "      border: none;\n",
              "      border-radius: 50%;\n",
              "      cursor: pointer;\n",
              "      display: none;\n",
              "      fill: #1967D2;\n",
              "      height: 32px;\n",
              "      padding: 0 0 0 0;\n",
              "      width: 32px;\n",
              "    }\n",
              "\n",
              "    .colab-df-convert:hover {\n",
              "      background-color: #E2EBFA;\n",
              "      box-shadow: 0px 1px 2px rgba(60, 64, 67, 0.3), 0px 1px 3px 1px rgba(60, 64, 67, 0.15);\n",
              "      fill: #174EA6;\n",
              "    }\n",
              "\n",
              "    [theme=dark] .colab-df-convert {\n",
              "      background-color: #3B4455;\n",
              "      fill: #D2E3FC;\n",
              "    }\n",
              "\n",
              "    [theme=dark] .colab-df-convert:hover {\n",
              "      background-color: #434B5C;\n",
              "      box-shadow: 0px 1px 3px 1px rgba(0, 0, 0, 0.15);\n",
              "      filter: drop-shadow(0px 1px 2px rgba(0, 0, 0, 0.3));\n",
              "      fill: #FFFFFF;\n",
              "    }\n",
              "  </style>\n",
              "\n",
              "      <script>\n",
              "        const buttonEl =\n",
              "          document.querySelector('#df-97958d32-26f1-4419-8944-7e7bd264fe4b button.colab-df-convert');\n",
              "        buttonEl.style.display =\n",
              "          google.colab.kernel.accessAllowed ? 'block' : 'none';\n",
              "\n",
              "        async function convertToInteractive(key) {\n",
              "          const element = document.querySelector('#df-97958d32-26f1-4419-8944-7e7bd264fe4b');\n",
              "          const dataTable =\n",
              "            await google.colab.kernel.invokeFunction('convertToInteractive',\n",
              "                                                     [key], {});\n",
              "          if (!dataTable) return;\n",
              "\n",
              "          const docLinkHtml = 'Like what you see? Visit the ' +\n",
              "            '<a target=\"_blank\" href=https://colab.research.google.com/notebooks/data_table.ipynb>data table notebook</a>'\n",
              "            + ' to learn more about interactive tables.';\n",
              "          element.innerHTML = '';\n",
              "          dataTable['output_type'] = 'display_data';\n",
              "          await google.colab.output.renderOutput(dataTable, element);\n",
              "          const docLink = document.createElement('div');\n",
              "          docLink.innerHTML = docLinkHtml;\n",
              "          element.appendChild(docLink);\n",
              "        }\n",
              "      </script>\n",
              "    </div>\n",
              "  </div>\n",
              "  "
            ]
          },
          "metadata": {},
          "execution_count": 19
        }
      ]
    },
    {
      "cell_type": "markdown",
      "source": [
        "Como podemos ver na tabela das métricas, o melhor modelo ficou o ADA Boost Classifier, então usaremos esta pra os próximos exercícios do projeto."
      ],
      "metadata": {
        "id": "6M5a3EbzZSE8"
      }
    },
    {
      "cell_type": "code",
      "source": [
        "modelos_testes(AdaBoostClassifier(),'ADA')"
      ],
      "metadata": {
        "id": "-HtRW-OxZnM4"
      },
      "execution_count": null,
      "outputs": []
    },
    {
      "cell_type": "code",
      "source": [
        "melhor_modelo = metricas.loc[:,[\"Métricas\",'ADA']]"
      ],
      "metadata": {
        "id": "kcrQ3RALaqo4"
      },
      "execution_count": null,
      "outputs": []
    },
    {
      "cell_type": "code",
      "source": [
        "melhor_modelo"
      ],
      "metadata": {
        "colab": {
          "base_uri": "https://localhost:8080/",
          "height": 143
        },
        "id": "u5vHYEr5a37I",
        "outputId": "51c03a94-b965-4b95-bd60-cc4b1fa988f9"
      },
      "execution_count": null,
      "outputs": [
        {
          "output_type": "execute_result",
          "data": {
            "text/plain": [
              "           Métricas    ADA\n",
              "0   Accuracy Score:  0.688\n",
              "1  Precision Score:  0.640\n",
              "2     Recall Score:  0.581"
            ],
            "text/html": [
              "\n",
              "  <div id=\"df-d33def07-ad63-486c-8e50-0f1b0f1cd579\">\n",
              "    <div class=\"colab-df-container\">\n",
              "      <div>\n",
              "<style scoped>\n",
              "    .dataframe tbody tr th:only-of-type {\n",
              "        vertical-align: middle;\n",
              "    }\n",
              "\n",
              "    .dataframe tbody tr th {\n",
              "        vertical-align: top;\n",
              "    }\n",
              "\n",
              "    .dataframe thead th {\n",
              "        text-align: right;\n",
              "    }\n",
              "</style>\n",
              "<table border=\"1\" class=\"dataframe\">\n",
              "  <thead>\n",
              "    <tr style=\"text-align: right;\">\n",
              "      <th></th>\n",
              "      <th>Métricas</th>\n",
              "      <th>ADA</th>\n",
              "    </tr>\n",
              "  </thead>\n",
              "  <tbody>\n",
              "    <tr>\n",
              "      <th>0</th>\n",
              "      <td>Accuracy Score:</td>\n",
              "      <td>0.688</td>\n",
              "    </tr>\n",
              "    <tr>\n",
              "      <th>1</th>\n",
              "      <td>Precision Score:</td>\n",
              "      <td>0.640</td>\n",
              "    </tr>\n",
              "    <tr>\n",
              "      <th>2</th>\n",
              "      <td>Recall Score:</td>\n",
              "      <td>0.581</td>\n",
              "    </tr>\n",
              "  </tbody>\n",
              "</table>\n",
              "</div>\n",
              "      <button class=\"colab-df-convert\" onclick=\"convertToInteractive('df-d33def07-ad63-486c-8e50-0f1b0f1cd579')\"\n",
              "              title=\"Convert this dataframe to an interactive table.\"\n",
              "              style=\"display:none;\">\n",
              "        \n",
              "  <svg xmlns=\"http://www.w3.org/2000/svg\" height=\"24px\"viewBox=\"0 0 24 24\"\n",
              "       width=\"24px\">\n",
              "    <path d=\"M0 0h24v24H0V0z\" fill=\"none\"/>\n",
              "    <path d=\"M18.56 5.44l.94 2.06.94-2.06 2.06-.94-2.06-.94-.94-2.06-.94 2.06-2.06.94zm-11 1L8.5 8.5l.94-2.06 2.06-.94-2.06-.94L8.5 2.5l-.94 2.06-2.06.94zm10 10l.94 2.06.94-2.06 2.06-.94-2.06-.94-.94-2.06-.94 2.06-2.06.94z\"/><path d=\"M17.41 7.96l-1.37-1.37c-.4-.4-.92-.59-1.43-.59-.52 0-1.04.2-1.43.59L10.3 9.45l-7.72 7.72c-.78.78-.78 2.05 0 2.83L4 21.41c.39.39.9.59 1.41.59.51 0 1.02-.2 1.41-.59l7.78-7.78 2.81-2.81c.8-.78.8-2.07 0-2.86zM5.41 20L4 18.59l7.72-7.72 1.47 1.35L5.41 20z\"/>\n",
              "  </svg>\n",
              "      </button>\n",
              "      \n",
              "  <style>\n",
              "    .colab-df-container {\n",
              "      display:flex;\n",
              "      flex-wrap:wrap;\n",
              "      gap: 12px;\n",
              "    }\n",
              "\n",
              "    .colab-df-convert {\n",
              "      background-color: #E8F0FE;\n",
              "      border: none;\n",
              "      border-radius: 50%;\n",
              "      cursor: pointer;\n",
              "      display: none;\n",
              "      fill: #1967D2;\n",
              "      height: 32px;\n",
              "      padding: 0 0 0 0;\n",
              "      width: 32px;\n",
              "    }\n",
              "\n",
              "    .colab-df-convert:hover {\n",
              "      background-color: #E2EBFA;\n",
              "      box-shadow: 0px 1px 2px rgba(60, 64, 67, 0.3), 0px 1px 3px 1px rgba(60, 64, 67, 0.15);\n",
              "      fill: #174EA6;\n",
              "    }\n",
              "\n",
              "    [theme=dark] .colab-df-convert {\n",
              "      background-color: #3B4455;\n",
              "      fill: #D2E3FC;\n",
              "    }\n",
              "\n",
              "    [theme=dark] .colab-df-convert:hover {\n",
              "      background-color: #434B5C;\n",
              "      box-shadow: 0px 1px 3px 1px rgba(0, 0, 0, 0.15);\n",
              "      filter: drop-shadow(0px 1px 2px rgba(0, 0, 0, 0.3));\n",
              "      fill: #FFFFFF;\n",
              "    }\n",
              "  </style>\n",
              "\n",
              "      <script>\n",
              "        const buttonEl =\n",
              "          document.querySelector('#df-d33def07-ad63-486c-8e50-0f1b0f1cd579 button.colab-df-convert');\n",
              "        buttonEl.style.display =\n",
              "          google.colab.kernel.accessAllowed ? 'block' : 'none';\n",
              "\n",
              "        async function convertToInteractive(key) {\n",
              "          const element = document.querySelector('#df-d33def07-ad63-486c-8e50-0f1b0f1cd579');\n",
              "          const dataTable =\n",
              "            await google.colab.kernel.invokeFunction('convertToInteractive',\n",
              "                                                     [key], {});\n",
              "          if (!dataTable) return;\n",
              "\n",
              "          const docLinkHtml = 'Like what you see? Visit the ' +\n",
              "            '<a target=\"_blank\" href=https://colab.research.google.com/notebooks/data_table.ipynb>data table notebook</a>'\n",
              "            + ' to learn more about interactive tables.';\n",
              "          element.innerHTML = '';\n",
              "          dataTable['output_type'] = 'display_data';\n",
              "          await google.colab.output.renderOutput(dataTable, element);\n",
              "          const docLink = document.createElement('div');\n",
              "          docLink.innerHTML = docLinkHtml;\n",
              "          element.appendChild(docLink);\n",
              "        }\n",
              "      </script>\n",
              "    </div>\n",
              "  </div>\n",
              "  "
            ]
          },
          "metadata": {},
          "execution_count": 22
        }
      ]
    },
    {
      "cell_type": "markdown",
      "source": [
        "##Excercício 2\n",
        "Use o seu modelo para classificar os seguintes textos extraídos do site Financial Times. Faça uma tabela com o valor esperado e o valor obtido, e responda: \n",
        "- houve divergência entre o esperado e o obtido? \n",
        "- O que poderia ser feito para corrigir? (1.0 ponto)\n"
      ],
      "metadata": {
        "id": "n_BihChQ2FjM"
      }
    },
    {
      "cell_type": "markdown",
      "source": [
        "- a. Central banks’ rate rises, geopolitical risk and slowing growth trigger investors’ stampede for safety. resultado esperado: [negativo]\n",
        "- b. China opens up bond market in bid to woo foreign investors. resultado esperado: [neutro]\n",
        "- c. HM Revenue & Customs says residents had £850bn in accounts overseas but it does not estimate if tax paid on this. resultado esperado: [negativo]\n",
        "- d. Japan’s horrifying crop of data falsification is also encouraging. The scandals have emerged from a distinct new phase in the evolution of the country’s shareholder capitalism. resultado esperado: [negativo]\n",
        "- e. Despite internal problems, the group continues to exert a tight grip on the US’s gun control debate. resultado esperado: [neutro]"
      ],
      "metadata": {
        "id": "Gb2WPaTW567f"
      }
    },
    {
      "cell_type": "code",
      "source": [
        "a = 'Central banks’ rate rises, geopolitical risk and slowing growth trigger investors’ stampede for safety.'\n",
        "a_sent = 'negative'\n",
        "b = 'China opens up bond market in bid to woo foreign investors.'\n",
        "b_sent = 'neutral'\n",
        "c = 'HM Revenue & Customs says residents had £850bn in accounts overseas but it does not estimate if tax paid on this.'\n",
        "c_sent = 'negative'\n",
        "d = 'Japan’s horrifying crop of data falsification is also encouraging. The scandals have emerged from a distinct new phase in the evolution of the country’s shareholder capitalism.'\n",
        "d_sent = 'negative'\n",
        "e = 'Despite internal problems, the group continues to exert a tight grip on the US’s gun control debate.'\n",
        "e_sent = 'neutral'"
      ],
      "metadata": {
        "id": "7438ADNBk1D5"
      },
      "execution_count": null,
      "outputs": []
    },
    {
      "cell_type": "markdown",
      "source": [
        "Criamos uma variável com os textos extraídos do site Financial Times."
      ],
      "metadata": {
        "id": "Ofxyks21jwLC"
      }
    },
    {
      "cell_type": "code",
      "source": [
        "texto_ex2 = [a,b,c,d,e]\n",
        "texto_ex2"
      ],
      "metadata": {
        "colab": {
          "base_uri": "https://localhost:8080/"
        },
        "id": "J6-PIEkTlCwJ",
        "outputId": "29a22b45-2e86-45db-a6f2-733c271f604a"
      },
      "execution_count": null,
      "outputs": [
        {
          "output_type": "execute_result",
          "data": {
            "text/plain": [
              "['Central banks’ rate rises, geopolitical risk and slowing growth trigger investors’ stampede for safety.',\n",
              " 'China opens up bond market in bid to woo foreign investors.',\n",
              " 'HM Revenue & Customs says residents had £850bn in accounts overseas but it does not estimate if tax paid on this.',\n",
              " 'Japan’s horrifying crop of data falsification is also encouraging. The scandals have emerged from a distinct new phase in the evolution of the country’s shareholder capitalism.',\n",
              " 'Despite internal problems, the group continues to exert a tight grip on the US’s gun control debate.']"
            ]
          },
          "metadata": {},
          "execution_count": 24
        }
      ]
    },
    {
      "cell_type": "markdown",
      "source": [
        "Aqui criamos uma variável com os valores dos textos extraídos do site Financial Times."
      ],
      "metadata": {
        "id": "uuyHTS6uj2bc"
      }
    },
    {
      "cell_type": "code",
      "source": [
        "sentimento_ex2 = [a_sent,b_sent,c_sent,d_sent,e_sent]\n",
        "sentimento_ex2"
      ],
      "metadata": {
        "colab": {
          "base_uri": "https://localhost:8080/"
        },
        "id": "CZQ2y143ldJ0",
        "outputId": "b7d50e2b-bcbe-46b8-bff9-16c6c414565c"
      },
      "execution_count": null,
      "outputs": [
        {
          "output_type": "execute_result",
          "data": {
            "text/plain": [
              "['negative', 'neutral', 'negative', 'negative', 'neutral']"
            ]
          },
          "metadata": {},
          "execution_count": 25
        }
      ]
    },
    {
      "cell_type": "markdown",
      "source": [
        "Vamos olhar os sentimentos que o modelo obteve"
      ],
      "metadata": {
        "id": "QYZUndaWj-Pm"
      }
    },
    {
      "cell_type": "code",
      "source": [
        "y_pred_ex2 = pipe.predict(texto_ex2)\n",
        "y_pred_ex2"
      ],
      "metadata": {
        "colab": {
          "base_uri": "https://localhost:8080/"
        },
        "id": "vsudOqpAp9pk",
        "outputId": "7fe2ccde-2f71-44cd-e8c7-872146dcfc16"
      },
      "execution_count": null,
      "outputs": [
        {
          "output_type": "execute_result",
          "data": {
            "text/plain": [
              "array(['positive', 'neutral', 'neutral', 'neutral', 'neutral'],\n",
              "      dtype=object)"
            ]
          },
          "metadata": {},
          "execution_count": 26
        }
      ]
    },
    {
      "cell_type": "markdown",
      "source": [
        "Agora poderemos comparar os sentimentos obtidos com os valores esperados"
      ],
      "metadata": {
        "id": "mYj9cMutkRJQ"
      }
    },
    {
      "cell_type": "code",
      "source": [
        "tabela_resultado = pd.DataFrame({'Valor Esperado':sentimento_ex2,'Valor Obtido':y_pred_ex2})\n",
        "tabela_resultado"
      ],
      "metadata": {
        "colab": {
          "base_uri": "https://localhost:8080/",
          "height": 206
        },
        "id": "XbH5fwnLs-vx",
        "outputId": "ebfe52c3-8a44-40e1-f53a-56870b68f8e2"
      },
      "execution_count": null,
      "outputs": [
        {
          "output_type": "execute_result",
          "data": {
            "text/plain": [
              "  Valor Esperado Valor Obtido\n",
              "0       negative     positive\n",
              "1        neutral      neutral\n",
              "2       negative      neutral\n",
              "3       negative      neutral\n",
              "4        neutral      neutral"
            ],
            "text/html": [
              "\n",
              "  <div id=\"df-6f743878-a0dc-4b57-82be-686bc260797d\">\n",
              "    <div class=\"colab-df-container\">\n",
              "      <div>\n",
              "<style scoped>\n",
              "    .dataframe tbody tr th:only-of-type {\n",
              "        vertical-align: middle;\n",
              "    }\n",
              "\n",
              "    .dataframe tbody tr th {\n",
              "        vertical-align: top;\n",
              "    }\n",
              "\n",
              "    .dataframe thead th {\n",
              "        text-align: right;\n",
              "    }\n",
              "</style>\n",
              "<table border=\"1\" class=\"dataframe\">\n",
              "  <thead>\n",
              "    <tr style=\"text-align: right;\">\n",
              "      <th></th>\n",
              "      <th>Valor Esperado</th>\n",
              "      <th>Valor Obtido</th>\n",
              "    </tr>\n",
              "  </thead>\n",
              "  <tbody>\n",
              "    <tr>\n",
              "      <th>0</th>\n",
              "      <td>negative</td>\n",
              "      <td>positive</td>\n",
              "    </tr>\n",
              "    <tr>\n",
              "      <th>1</th>\n",
              "      <td>neutral</td>\n",
              "      <td>neutral</td>\n",
              "    </tr>\n",
              "    <tr>\n",
              "      <th>2</th>\n",
              "      <td>negative</td>\n",
              "      <td>neutral</td>\n",
              "    </tr>\n",
              "    <tr>\n",
              "      <th>3</th>\n",
              "      <td>negative</td>\n",
              "      <td>neutral</td>\n",
              "    </tr>\n",
              "    <tr>\n",
              "      <th>4</th>\n",
              "      <td>neutral</td>\n",
              "      <td>neutral</td>\n",
              "    </tr>\n",
              "  </tbody>\n",
              "</table>\n",
              "</div>\n",
              "      <button class=\"colab-df-convert\" onclick=\"convertToInteractive('df-6f743878-a0dc-4b57-82be-686bc260797d')\"\n",
              "              title=\"Convert this dataframe to an interactive table.\"\n",
              "              style=\"display:none;\">\n",
              "        \n",
              "  <svg xmlns=\"http://www.w3.org/2000/svg\" height=\"24px\"viewBox=\"0 0 24 24\"\n",
              "       width=\"24px\">\n",
              "    <path d=\"M0 0h24v24H0V0z\" fill=\"none\"/>\n",
              "    <path d=\"M18.56 5.44l.94 2.06.94-2.06 2.06-.94-2.06-.94-.94-2.06-.94 2.06-2.06.94zm-11 1L8.5 8.5l.94-2.06 2.06-.94-2.06-.94L8.5 2.5l-.94 2.06-2.06.94zm10 10l.94 2.06.94-2.06 2.06-.94-2.06-.94-.94-2.06-.94 2.06-2.06.94z\"/><path d=\"M17.41 7.96l-1.37-1.37c-.4-.4-.92-.59-1.43-.59-.52 0-1.04.2-1.43.59L10.3 9.45l-7.72 7.72c-.78.78-.78 2.05 0 2.83L4 21.41c.39.39.9.59 1.41.59.51 0 1.02-.2 1.41-.59l7.78-7.78 2.81-2.81c.8-.78.8-2.07 0-2.86zM5.41 20L4 18.59l7.72-7.72 1.47 1.35L5.41 20z\"/>\n",
              "  </svg>\n",
              "      </button>\n",
              "      \n",
              "  <style>\n",
              "    .colab-df-container {\n",
              "      display:flex;\n",
              "      flex-wrap:wrap;\n",
              "      gap: 12px;\n",
              "    }\n",
              "\n",
              "    .colab-df-convert {\n",
              "      background-color: #E8F0FE;\n",
              "      border: none;\n",
              "      border-radius: 50%;\n",
              "      cursor: pointer;\n",
              "      display: none;\n",
              "      fill: #1967D2;\n",
              "      height: 32px;\n",
              "      padding: 0 0 0 0;\n",
              "      width: 32px;\n",
              "    }\n",
              "\n",
              "    .colab-df-convert:hover {\n",
              "      background-color: #E2EBFA;\n",
              "      box-shadow: 0px 1px 2px rgba(60, 64, 67, 0.3), 0px 1px 3px 1px rgba(60, 64, 67, 0.15);\n",
              "      fill: #174EA6;\n",
              "    }\n",
              "\n",
              "    [theme=dark] .colab-df-convert {\n",
              "      background-color: #3B4455;\n",
              "      fill: #D2E3FC;\n",
              "    }\n",
              "\n",
              "    [theme=dark] .colab-df-convert:hover {\n",
              "      background-color: #434B5C;\n",
              "      box-shadow: 0px 1px 3px 1px rgba(0, 0, 0, 0.15);\n",
              "      filter: drop-shadow(0px 1px 2px rgba(0, 0, 0, 0.3));\n",
              "      fill: #FFFFFF;\n",
              "    }\n",
              "  </style>\n",
              "\n",
              "      <script>\n",
              "        const buttonEl =\n",
              "          document.querySelector('#df-6f743878-a0dc-4b57-82be-686bc260797d button.colab-df-convert');\n",
              "        buttonEl.style.display =\n",
              "          google.colab.kernel.accessAllowed ? 'block' : 'none';\n",
              "\n",
              "        async function convertToInteractive(key) {\n",
              "          const element = document.querySelector('#df-6f743878-a0dc-4b57-82be-686bc260797d');\n",
              "          const dataTable =\n",
              "            await google.colab.kernel.invokeFunction('convertToInteractive',\n",
              "                                                     [key], {});\n",
              "          if (!dataTable) return;\n",
              "\n",
              "          const docLinkHtml = 'Like what you see? Visit the ' +\n",
              "            '<a target=\"_blank\" href=https://colab.research.google.com/notebooks/data_table.ipynb>data table notebook</a>'\n",
              "            + ' to learn more about interactive tables.';\n",
              "          element.innerHTML = '';\n",
              "          dataTable['output_type'] = 'display_data';\n",
              "          await google.colab.output.renderOutput(dataTable, element);\n",
              "          const docLink = document.createElement('div');\n",
              "          docLink.innerHTML = docLinkHtml;\n",
              "          element.appendChild(docLink);\n",
              "        }\n",
              "      </script>\n",
              "    </div>\n",
              "  </div>\n",
              "  "
            ]
          },
          "metadata": {},
          "execution_count": 27
        }
      ]
    },
    {
      "cell_type": "code",
      "source": [
        "print('Accuracy Score:',round(accuracy_score(sentimento_ex2, y_pred_ex2), 3))\n",
        "print('Precision Score:',round(precision_score(sentimento_ex2, y_pred_ex2, average='macro'), 3))\n",
        "print('Recall Score',round(recall_score(sentimento_ex2, y_pred_ex2, average='macro'),3))"
      ],
      "metadata": {
        "colab": {
          "base_uri": "https://localhost:8080/"
        },
        "id": "qqVQ7kSvkdk6",
        "outputId": "4212e646-b904-4af0-bb70-6eeb775895f0"
      },
      "execution_count": null,
      "outputs": [
        {
          "output_type": "stream",
          "name": "stdout",
          "text": [
            "Accuracy Score: 0.4\n",
            "Precision Score: 0.167\n",
            "Recall Score 0.333\n"
          ]
        },
        {
          "output_type": "stream",
          "name": "stderr",
          "text": [
            "/usr/local/lib/python3.7/dist-packages/sklearn/metrics/_classification.py:1318: UndefinedMetricWarning: Precision is ill-defined and being set to 0.0 in labels with no predicted samples. Use `zero_division` parameter to control this behavior.\n",
            "  _warn_prf(average, modifier, msg_start, len(result))\n",
            "/usr/local/lib/python3.7/dist-packages/sklearn/metrics/_classification.py:1318: UndefinedMetricWarning: Recall is ill-defined and being set to 0.0 in labels with no true samples. Use `zero_division` parameter to control this behavior.\n",
            "  _warn_prf(average, modifier, msg_start, len(result))\n"
          ]
        }
      ]
    },
    {
      "cell_type": "markdown",
      "source": [
        "- houve divergência entre o esperado e o obtido? \n",
        "\n",
        "Houve bastante divergência entre os valores, enquanto nosso modelo tendenciou para ser mais positivo/neutros, os valores esperados eram bastante negativos/neutros. A principal diferença entra no primeiro texto, onde o esperado era um sentimentos negativo e no obetivo resultou em positivo. \n",
        "\n",
        "As métricas foram:\n",
        "- Accuracy Score: 0.4\n",
        "- Precision Score: 0.167\n",
        "- Recall Score 0.333\n"
      ],
      "metadata": {
        "id": "VHwv6aqzsT-d"
      }
    },
    {
      "cell_type": "markdown",
      "source": [
        "- O que poderia ser feito para corrigir?\n",
        "\n",
        "A primeira etapa acredito que deveria ser tratar estes textos extraídos do site Financial Times como foram tratados os textos do nosso dataset inicial, assim poderiamos comparar os textos tratados da mesma maneira. Outro ponto importante seria adaptar o nosso modelo para determinado segmento, criar stopwords próprios, melhorar a nossa lemarização, entre outros tratamentos que poderiamos olhar com mais calma.\n"
      ],
      "metadata": {
        "id": "273o_Qlys4iQ"
      }
    },
    {
      "cell_type": "markdown",
      "source": [
        "##Exercício 3\n",
        "Faça uma análise exploratória, onde identifique as três empresas mais citadas e quantifique os níveis de positividade, negatividade e neutralidade dos textos sobre estas empresas. (3.0 pontos)\n",
        " - a. Extraia de todos os textos as entidades, há quantas entidades? (0.6 pontos) \n",
        " - b. Quantas entidades são empresas? (0.6 pontos) \n",
        " - c. Quais são as três empresas mais citadas? (0.6 pontos) \n",
        " - d. Faça uma tabela onde demonstre as três empresas mais citadas e o total de textos positivos, negativos e neutros de cada uma. (1.2 pontos)"
      ],
      "metadata": {
        "id": "ynY2c9KI6LsO"
      }
    },
    {
      "cell_type": "code",
      "source": [
        "df.shape"
      ],
      "metadata": {
        "colab": {
          "base_uri": "https://localhost:8080/"
        },
        "id": "cdfnvydbI_IO",
        "outputId": "70cc0afc-01c7-4e4d-f0c3-7a9628578f6d"
      },
      "execution_count": null,
      "outputs": [
        {
          "output_type": "execute_result",
          "data": {
            "text/plain": [
              "(5842, 2)"
            ]
          },
          "metadata": {},
          "execution_count": 29
        }
      ]
    },
    {
      "cell_type": "markdown",
      "source": [
        "Aqui vamos gerar um variável para ver as posições das palavras nas frases"
      ],
      "metadata": {
        "id": "0eP2o8klcnTp"
      }
    },
    {
      "cell_type": "code",
      "source": [
        "tokenlist=[]\n",
        "for i in range(len(df)):\n",
        "  texto_01 = df['Sentence'][i].replace(\",\",\" \").replace(\";\",\" \").lower()\n",
        "  for token in nlp(texto_01):\n",
        "    tokenlist.append([token.text, token.pos_])\n",
        "    # print(token.text, token.pos_)"
      ],
      "metadata": {
        "id": "iC7znTtY5U1s"
      },
      "execution_count": null,
      "outputs": []
    },
    {
      "cell_type": "code",
      "source": [
        "tokenlist = pd.DataFrame(tokenlist)"
      ],
      "metadata": {
        "id": "3hUQiScI7RHk"
      },
      "execution_count": null,
      "outputs": []
    },
    {
      "cell_type": "code",
      "source": [
        "tokenlist.head()"
      ],
      "metadata": {
        "colab": {
          "base_uri": "https://localhost:8080/",
          "height": 206
        },
        "id": "dJEOsseM7aK3",
        "outputId": "c2f568c3-8665-4d4c-dd63-12f8934cc6e8"
      },
      "execution_count": null,
      "outputs": [
        {
          "output_type": "execute_result",
          "data": {
            "text/plain": [
              "              0     1\n",
              "0           the   DET\n",
              "1  geosolutions  NOUN\n",
              "2    technology  NOUN\n",
              "3          will  VERB\n",
              "4      leverage  VERB"
            ],
            "text/html": [
              "\n",
              "  <div id=\"df-788a1acd-0605-4cf9-97b6-4c49329f273f\">\n",
              "    <div class=\"colab-df-container\">\n",
              "      <div>\n",
              "<style scoped>\n",
              "    .dataframe tbody tr th:only-of-type {\n",
              "        vertical-align: middle;\n",
              "    }\n",
              "\n",
              "    .dataframe tbody tr th {\n",
              "        vertical-align: top;\n",
              "    }\n",
              "\n",
              "    .dataframe thead th {\n",
              "        text-align: right;\n",
              "    }\n",
              "</style>\n",
              "<table border=\"1\" class=\"dataframe\">\n",
              "  <thead>\n",
              "    <tr style=\"text-align: right;\">\n",
              "      <th></th>\n",
              "      <th>0</th>\n",
              "      <th>1</th>\n",
              "    </tr>\n",
              "  </thead>\n",
              "  <tbody>\n",
              "    <tr>\n",
              "      <th>0</th>\n",
              "      <td>the</td>\n",
              "      <td>DET</td>\n",
              "    </tr>\n",
              "    <tr>\n",
              "      <th>1</th>\n",
              "      <td>geosolutions</td>\n",
              "      <td>NOUN</td>\n",
              "    </tr>\n",
              "    <tr>\n",
              "      <th>2</th>\n",
              "      <td>technology</td>\n",
              "      <td>NOUN</td>\n",
              "    </tr>\n",
              "    <tr>\n",
              "      <th>3</th>\n",
              "      <td>will</td>\n",
              "      <td>VERB</td>\n",
              "    </tr>\n",
              "    <tr>\n",
              "      <th>4</th>\n",
              "      <td>leverage</td>\n",
              "      <td>VERB</td>\n",
              "    </tr>\n",
              "  </tbody>\n",
              "</table>\n",
              "</div>\n",
              "      <button class=\"colab-df-convert\" onclick=\"convertToInteractive('df-788a1acd-0605-4cf9-97b6-4c49329f273f')\"\n",
              "              title=\"Convert this dataframe to an interactive table.\"\n",
              "              style=\"display:none;\">\n",
              "        \n",
              "  <svg xmlns=\"http://www.w3.org/2000/svg\" height=\"24px\"viewBox=\"0 0 24 24\"\n",
              "       width=\"24px\">\n",
              "    <path d=\"M0 0h24v24H0V0z\" fill=\"none\"/>\n",
              "    <path d=\"M18.56 5.44l.94 2.06.94-2.06 2.06-.94-2.06-.94-.94-2.06-.94 2.06-2.06.94zm-11 1L8.5 8.5l.94-2.06 2.06-.94-2.06-.94L8.5 2.5l-.94 2.06-2.06.94zm10 10l.94 2.06.94-2.06 2.06-.94-2.06-.94-.94-2.06-.94 2.06-2.06.94z\"/><path d=\"M17.41 7.96l-1.37-1.37c-.4-.4-.92-.59-1.43-.59-.52 0-1.04.2-1.43.59L10.3 9.45l-7.72 7.72c-.78.78-.78 2.05 0 2.83L4 21.41c.39.39.9.59 1.41.59.51 0 1.02-.2 1.41-.59l7.78-7.78 2.81-2.81c.8-.78.8-2.07 0-2.86zM5.41 20L4 18.59l7.72-7.72 1.47 1.35L5.41 20z\"/>\n",
              "  </svg>\n",
              "      </button>\n",
              "      \n",
              "  <style>\n",
              "    .colab-df-container {\n",
              "      display:flex;\n",
              "      flex-wrap:wrap;\n",
              "      gap: 12px;\n",
              "    }\n",
              "\n",
              "    .colab-df-convert {\n",
              "      background-color: #E8F0FE;\n",
              "      border: none;\n",
              "      border-radius: 50%;\n",
              "      cursor: pointer;\n",
              "      display: none;\n",
              "      fill: #1967D2;\n",
              "      height: 32px;\n",
              "      padding: 0 0 0 0;\n",
              "      width: 32px;\n",
              "    }\n",
              "\n",
              "    .colab-df-convert:hover {\n",
              "      background-color: #E2EBFA;\n",
              "      box-shadow: 0px 1px 2px rgba(60, 64, 67, 0.3), 0px 1px 3px 1px rgba(60, 64, 67, 0.15);\n",
              "      fill: #174EA6;\n",
              "    }\n",
              "\n",
              "    [theme=dark] .colab-df-convert {\n",
              "      background-color: #3B4455;\n",
              "      fill: #D2E3FC;\n",
              "    }\n",
              "\n",
              "    [theme=dark] .colab-df-convert:hover {\n",
              "      background-color: #434B5C;\n",
              "      box-shadow: 0px 1px 3px 1px rgba(0, 0, 0, 0.15);\n",
              "      filter: drop-shadow(0px 1px 2px rgba(0, 0, 0, 0.3));\n",
              "      fill: #FFFFFF;\n",
              "    }\n",
              "  </style>\n",
              "\n",
              "      <script>\n",
              "        const buttonEl =\n",
              "          document.querySelector('#df-788a1acd-0605-4cf9-97b6-4c49329f273f button.colab-df-convert');\n",
              "        buttonEl.style.display =\n",
              "          google.colab.kernel.accessAllowed ? 'block' : 'none';\n",
              "\n",
              "        async function convertToInteractive(key) {\n",
              "          const element = document.querySelector('#df-788a1acd-0605-4cf9-97b6-4c49329f273f');\n",
              "          const dataTable =\n",
              "            await google.colab.kernel.invokeFunction('convertToInteractive',\n",
              "                                                     [key], {});\n",
              "          if (!dataTable) return;\n",
              "\n",
              "          const docLinkHtml = 'Like what you see? Visit the ' +\n",
              "            '<a target=\"_blank\" href=https://colab.research.google.com/notebooks/data_table.ipynb>data table notebook</a>'\n",
              "            + ' to learn more about interactive tables.';\n",
              "          element.innerHTML = '';\n",
              "          dataTable['output_type'] = 'display_data';\n",
              "          await google.colab.output.renderOutput(dataTable, element);\n",
              "          const docLink = document.createElement('div');\n",
              "          docLink.innerHTML = docLinkHtml;\n",
              "          element.appendChild(docLink);\n",
              "        }\n",
              "      </script>\n",
              "    </div>\n",
              "  </div>\n",
              "  "
            ]
          },
          "metadata": {},
          "execution_count": 32
        }
      ]
    },
    {
      "cell_type": "markdown",
      "source": [
        "Aqui criaremos outra variável para ver quais entidades foram classificadas e como foram classificadas, ainda na mesma tabela iremos incluir o sentimento da frase no qual a entidade pertence."
      ],
      "metadata": {
        "id": "oIHNSRxccvu2"
      }
    },
    {
      "cell_type": "code",
      "source": [
        "entidades=[]\n",
        "for i in range(len(df)):\n",
        "  texto_01 = df['Sentence'][i].replace(\",\",\" \").replace(\";\",\" \").lower()\n",
        "  for ent in nlp(texto_01).ents:\n",
        "    entidades.append((ent.text, ent.label_,df[\"Sentiment\"][i]))\n"
      ],
      "metadata": {
        "id": "9vIQxoDSKkhu"
      },
      "execution_count": null,
      "outputs": []
    },
    {
      "cell_type": "code",
      "source": [
        "entidades = pd.DataFrame(data = entidades, columns=['Entidades','Label','Sentimento'])"
      ],
      "metadata": {
        "id": "i8otgH-vMsCd"
      },
      "execution_count": null,
      "outputs": []
    },
    {
      "cell_type": "code",
      "source": [
        "entidades.shape"
      ],
      "metadata": {
        "colab": {
          "base_uri": "https://localhost:8080/"
        },
        "id": "BDp162ebNaDS",
        "outputId": "a7f20871-8a85-47ac-ac84-4cbab78d49e3"
      },
      "execution_count": null,
      "outputs": [
        {
          "output_type": "execute_result",
          "data": {
            "text/plain": [
              "(13641, 3)"
            ]
          },
          "metadata": {},
          "execution_count": 35
        }
      ]
    },
    {
      "cell_type": "code",
      "source": [
        "entidades.head()"
      ],
      "metadata": {
        "colab": {
          "base_uri": "https://localhost:8080/",
          "height": 206
        },
        "id": "GWEmoMf07MDC",
        "outputId": "c7bbc06a-ff7c-4485-f2c2-436147543c30"
      },
      "execution_count": null,
      "outputs": [
        {
          "output_type": "execute_result",
          "data": {
            "text/plain": [
              "                        Entidades   Label Sentimento\n",
              "0                             esi  PERSON   negative\n",
              "1                            1.50   MONEY   negative\n",
              "2                            2.50   MONEY   negative\n",
              "3        the last quarter of 2010    DATE   positive\n",
              "4  the same period a year earlier    DATE   positive"
            ],
            "text/html": [
              "\n",
              "  <div id=\"df-98488e10-c988-40ca-a631-3a34d872d5d0\">\n",
              "    <div class=\"colab-df-container\">\n",
              "      <div>\n",
              "<style scoped>\n",
              "    .dataframe tbody tr th:only-of-type {\n",
              "        vertical-align: middle;\n",
              "    }\n",
              "\n",
              "    .dataframe tbody tr th {\n",
              "        vertical-align: top;\n",
              "    }\n",
              "\n",
              "    .dataframe thead th {\n",
              "        text-align: right;\n",
              "    }\n",
              "</style>\n",
              "<table border=\"1\" class=\"dataframe\">\n",
              "  <thead>\n",
              "    <tr style=\"text-align: right;\">\n",
              "      <th></th>\n",
              "      <th>Entidades</th>\n",
              "      <th>Label</th>\n",
              "      <th>Sentimento</th>\n",
              "    </tr>\n",
              "  </thead>\n",
              "  <tbody>\n",
              "    <tr>\n",
              "      <th>0</th>\n",
              "      <td>esi</td>\n",
              "      <td>PERSON</td>\n",
              "      <td>negative</td>\n",
              "    </tr>\n",
              "    <tr>\n",
              "      <th>1</th>\n",
              "      <td>1.50</td>\n",
              "      <td>MONEY</td>\n",
              "      <td>negative</td>\n",
              "    </tr>\n",
              "    <tr>\n",
              "      <th>2</th>\n",
              "      <td>2.50</td>\n",
              "      <td>MONEY</td>\n",
              "      <td>negative</td>\n",
              "    </tr>\n",
              "    <tr>\n",
              "      <th>3</th>\n",
              "      <td>the last quarter of 2010</td>\n",
              "      <td>DATE</td>\n",
              "      <td>positive</td>\n",
              "    </tr>\n",
              "    <tr>\n",
              "      <th>4</th>\n",
              "      <td>the same period a year earlier</td>\n",
              "      <td>DATE</td>\n",
              "      <td>positive</td>\n",
              "    </tr>\n",
              "  </tbody>\n",
              "</table>\n",
              "</div>\n",
              "      <button class=\"colab-df-convert\" onclick=\"convertToInteractive('df-98488e10-c988-40ca-a631-3a34d872d5d0')\"\n",
              "              title=\"Convert this dataframe to an interactive table.\"\n",
              "              style=\"display:none;\">\n",
              "        \n",
              "  <svg xmlns=\"http://www.w3.org/2000/svg\" height=\"24px\"viewBox=\"0 0 24 24\"\n",
              "       width=\"24px\">\n",
              "    <path d=\"M0 0h24v24H0V0z\" fill=\"none\"/>\n",
              "    <path d=\"M18.56 5.44l.94 2.06.94-2.06 2.06-.94-2.06-.94-.94-2.06-.94 2.06-2.06.94zm-11 1L8.5 8.5l.94-2.06 2.06-.94-2.06-.94L8.5 2.5l-.94 2.06-2.06.94zm10 10l.94 2.06.94-2.06 2.06-.94-2.06-.94-.94-2.06-.94 2.06-2.06.94z\"/><path d=\"M17.41 7.96l-1.37-1.37c-.4-.4-.92-.59-1.43-.59-.52 0-1.04.2-1.43.59L10.3 9.45l-7.72 7.72c-.78.78-.78 2.05 0 2.83L4 21.41c.39.39.9.59 1.41.59.51 0 1.02-.2 1.41-.59l7.78-7.78 2.81-2.81c.8-.78.8-2.07 0-2.86zM5.41 20L4 18.59l7.72-7.72 1.47 1.35L5.41 20z\"/>\n",
              "  </svg>\n",
              "      </button>\n",
              "      \n",
              "  <style>\n",
              "    .colab-df-container {\n",
              "      display:flex;\n",
              "      flex-wrap:wrap;\n",
              "      gap: 12px;\n",
              "    }\n",
              "\n",
              "    .colab-df-convert {\n",
              "      background-color: #E8F0FE;\n",
              "      border: none;\n",
              "      border-radius: 50%;\n",
              "      cursor: pointer;\n",
              "      display: none;\n",
              "      fill: #1967D2;\n",
              "      height: 32px;\n",
              "      padding: 0 0 0 0;\n",
              "      width: 32px;\n",
              "    }\n",
              "\n",
              "    .colab-df-convert:hover {\n",
              "      background-color: #E2EBFA;\n",
              "      box-shadow: 0px 1px 2px rgba(60, 64, 67, 0.3), 0px 1px 3px 1px rgba(60, 64, 67, 0.15);\n",
              "      fill: #174EA6;\n",
              "    }\n",
              "\n",
              "    [theme=dark] .colab-df-convert {\n",
              "      background-color: #3B4455;\n",
              "      fill: #D2E3FC;\n",
              "    }\n",
              "\n",
              "    [theme=dark] .colab-df-convert:hover {\n",
              "      background-color: #434B5C;\n",
              "      box-shadow: 0px 1px 3px 1px rgba(0, 0, 0, 0.15);\n",
              "      filter: drop-shadow(0px 1px 2px rgba(0, 0, 0, 0.3));\n",
              "      fill: #FFFFFF;\n",
              "    }\n",
              "  </style>\n",
              "\n",
              "      <script>\n",
              "        const buttonEl =\n",
              "          document.querySelector('#df-98488e10-c988-40ca-a631-3a34d872d5d0 button.colab-df-convert');\n",
              "        buttonEl.style.display =\n",
              "          google.colab.kernel.accessAllowed ? 'block' : 'none';\n",
              "\n",
              "        async function convertToInteractive(key) {\n",
              "          const element = document.querySelector('#df-98488e10-c988-40ca-a631-3a34d872d5d0');\n",
              "          const dataTable =\n",
              "            await google.colab.kernel.invokeFunction('convertToInteractive',\n",
              "                                                     [key], {});\n",
              "          if (!dataTable) return;\n",
              "\n",
              "          const docLinkHtml = 'Like what you see? Visit the ' +\n",
              "            '<a target=\"_blank\" href=https://colab.research.google.com/notebooks/data_table.ipynb>data table notebook</a>'\n",
              "            + ' to learn more about interactive tables.';\n",
              "          element.innerHTML = '';\n",
              "          dataTable['output_type'] = 'display_data';\n",
              "          await google.colab.output.renderOutput(dataTable, element);\n",
              "          const docLink = document.createElement('div');\n",
              "          docLink.innerHTML = docLinkHtml;\n",
              "          element.appendChild(docLink);\n",
              "        }\n",
              "      </script>\n",
              "    </div>\n",
              "  </div>\n",
              "  "
            ]
          },
          "metadata": {},
          "execution_count": 36
        }
      ]
    },
    {
      "cell_type": "code",
      "source": [
        "entidades['Entidades'].value_counts()"
      ],
      "metadata": {
        "colab": {
          "base_uri": "https://localhost:8080/"
        },
        "id": "OnDrUFYCngBa",
        "outputId": "d60f3657-4bff-4ea2-9dab-9f619cade10f"
      },
      "execution_count": null,
      "outputs": [
        {
          "output_type": "execute_result",
          "data": {
            "text/plain": [
              "finnish             389\n",
              "finland             277\n",
              "eur                 233\n",
              "today               194\n",
              "2009                165\n",
              "                   ... \n",
              "winter                1\n",
              "christian             1\n",
              "philip morris         1\n",
              "19 december 2008      1\n",
              "strips ltd.           1\n",
              "Name: Entidades, Length: 6195, dtype: int64"
            ]
          },
          "metadata": {},
          "execution_count": 37
        }
      ]
    },
    {
      "cell_type": "code",
      "source": [
        "entidades['Label'].value_counts()"
      ],
      "metadata": {
        "colab": {
          "base_uri": "https://localhost:8080/"
        },
        "id": "AgqpjyJkOqut",
        "outputId": "44858cda-0343-4301-f5f7-0717a6604302"
      },
      "execution_count": null,
      "outputs": [
        {
          "output_type": "execute_result",
          "data": {
            "text/plain": [
              "DATE           3199\n",
              "ORG            2212\n",
              "CARDINAL       1920\n",
              "GPE            1640\n",
              "PERSON         1300\n",
              "MONEY          1047\n",
              "PERCENT         744\n",
              "NORP            697\n",
              "QUANTITY        387\n",
              "LOC             146\n",
              "ORDINAL         102\n",
              "TIME             84\n",
              "PRODUCT          73\n",
              "FAC              56\n",
              "WORK_OF_ART      17\n",
              "LAW               8\n",
              "LANGUAGE          7\n",
              "EVENT             2\n",
              "Name: Label, dtype: int64"
            ]
          },
          "metadata": {},
          "execution_count": 38
        }
      ]
    },
    {
      "cell_type": "code",
      "source": [
        "entidades['Label'].value_counts().shape"
      ],
      "metadata": {
        "colab": {
          "base_uri": "https://localhost:8080/"
        },
        "id": "bw0EpZCjmvzv",
        "outputId": "3a2596fd-f5c1-4caa-8b21-86926ebbc262"
      },
      "execution_count": null,
      "outputs": [
        {
          "output_type": "execute_result",
          "data": {
            "text/plain": [
              "(18,)"
            ]
          },
          "metadata": {},
          "execution_count": 39
        }
      ]
    },
    {
      "cell_type": "markdown",
      "source": [
        "**a. Extraia de todos os textos as entidades, há quantas entidades?**\n",
        "\n",
        "R: Tivemos ao total 13641 entidades com repetições, sem repetições tivemos 6195 e tivemos 18 tipos de classificações(labels) encontrados nesses textos."
      ],
      "metadata": {
        "id": "mJ903n5YnW8K"
      }
    },
    {
      "cell_type": "code",
      "source": [
        "entidades['Label'].value_counts()"
      ],
      "metadata": {
        "colab": {
          "base_uri": "https://localhost:8080/"
        },
        "id": "oKvmasPz9-xD",
        "outputId": "7cd737a2-bee2-4777-f569-cca20f6e48a8"
      },
      "execution_count": null,
      "outputs": [
        {
          "output_type": "execute_result",
          "data": {
            "text/plain": [
              "DATE           3199\n",
              "ORG            2212\n",
              "CARDINAL       1920\n",
              "GPE            1640\n",
              "PERSON         1300\n",
              "MONEY          1047\n",
              "PERCENT         744\n",
              "NORP            697\n",
              "QUANTITY        387\n",
              "LOC             146\n",
              "ORDINAL         102\n",
              "TIME             84\n",
              "PRODUCT          73\n",
              "FAC              56\n",
              "WORK_OF_ART      17\n",
              "LAW               8\n",
              "LANGUAGE          7\n",
              "EVENT             2\n",
              "Name: Label, dtype: int64"
            ]
          },
          "metadata": {},
          "execution_count": 40
        }
      ]
    },
    {
      "cell_type": "code",
      "source": [
        "entidades['Label'].value_counts()['ORG']"
      ],
      "metadata": {
        "colab": {
          "base_uri": "https://localhost:8080/"
        },
        "id": "5OeycDHL9zAJ",
        "outputId": "59ce5d6f-5be3-42a4-c21c-f385ae64898b"
      },
      "execution_count": null,
      "outputs": [
        {
          "output_type": "execute_result",
          "data": {
            "text/plain": [
              "2212"
            ]
          },
          "metadata": {},
          "execution_count": 41
        }
      ]
    },
    {
      "cell_type": "code",
      "source": [
        "entidades[entidades['Label']=='ORG']['Entidades'].value_counts().shape"
      ],
      "metadata": {
        "colab": {
          "base_uri": "https://localhost:8080/"
        },
        "id": "l5qW7GSRoD50",
        "outputId": "fa912404-a294-4a69-bca0-1b8e9c85b0b9"
      },
      "execution_count": null,
      "outputs": [
        {
          "output_type": "execute_result",
          "data": {
            "text/plain": [
              "(1255,)"
            ]
          },
          "metadata": {},
          "execution_count": 42
        }
      ]
    },
    {
      "cell_type": "markdown",
      "source": [
        "**b. Quantas entidades são empresas? (0.6 pontos)**\n",
        "\n",
        "R: tivemos 2212 entidades classificadas como \"ORG\", empresas. Porém se olhar a quantidade de entidades sem repetição chegamos ao número de 1255 empresas."
      ],
      "metadata": {
        "id": "58eLS8uloIH9"
      }
    },
    {
      "cell_type": "code",
      "source": [
        "entidades[entidades['Label']=='ORG']['Entidades'].value_counts()"
      ],
      "metadata": {
        "colab": {
          "base_uri": "https://localhost:8080/"
        },
        "id": "eqq8GEbfUJ3B",
        "outputId": "e20e3f76-cd94-4e6b-c0a9-ab4fb257e16a"
      },
      "execution_count": null,
      "outputs": [
        {
          "output_type": "execute_result",
          "data": {
            "text/plain": [
              "oyj                        66\n",
              "eur                        50\n",
              "nokia                      47\n",
              "pct                        41\n",
              "tesco                      29\n",
              "                           ..\n",
              "cramo plc                   1\n",
              "citrix systems inc          1\n",
              "https://t.co/v7lkq08flp     1\n",
              "oy telpak ab                1\n",
              "strips ltd.                 1\n",
              "Name: Entidades, Length: 1255, dtype: int64"
            ]
          },
          "metadata": {},
          "execution_count": 43
        }
      ]
    },
    {
      "cell_type": "code",
      "source": [
        "entidades[entidades['Entidades']=='eur']['Label'].value_counts()"
      ],
      "metadata": {
        "colab": {
          "base_uri": "https://localhost:8080/"
        },
        "id": "wZy2Cpl8_TIY",
        "outputId": "36a3f8bc-b39d-4d0f-c8f7-b6e8bc6a7596"
      },
      "execution_count": null,
      "outputs": [
        {
          "output_type": "execute_result",
          "data": {
            "text/plain": [
              "GPE    183\n",
              "ORG     50\n",
              "Name: Label, dtype: int64"
            ]
          },
          "metadata": {},
          "execution_count": 44
        }
      ]
    },
    {
      "cell_type": "markdown",
      "source": [
        "**c. Quais são as três empresas mais citadas? (0.6 pontos)**\n",
        "\n",
        "R: As 3 empresas mais citadas foram OYJ, EUR e NOKIA, com 66, 50 e 47 citações cda uma."
      ],
      "metadata": {
        "id": "CMh1o231oqg-"
      }
    },
    {
      "cell_type": "code",
      "source": [
        "empresas = entidades.query('Label == \"ORG\" and Entidades in [\"oyj\", \"eur\", \"nokia\"]')"
      ],
      "metadata": {
        "id": "Qox4P5KDBgYp"
      },
      "execution_count": null,
      "outputs": []
    },
    {
      "cell_type": "code",
      "source": [
        "empresas"
      ],
      "metadata": {
        "colab": {
          "base_uri": "https://localhost:8080/",
          "height": 423
        },
        "id": "ozVijU0DuTVo",
        "outputId": "ebf7188f-b187-410c-8089-dde4053c223c"
      },
      "execution_count": null,
      "outputs": [
        {
          "output_type": "execute_result",
          "data": {
            "text/plain": [
              "      Entidades Label Sentimento\n",
              "159         eur   ORG    neutral\n",
              "162         eur   ORG    neutral\n",
              "166         eur   ORG    neutral\n",
              "174         oyj   ORG    neutral\n",
              "367       nokia   ORG    neutral\n",
              "...         ...   ...        ...\n",
              "13173       oyj   ORG    neutral\n",
              "13312       eur   ORG    neutral\n",
              "13333     nokia   ORG    neutral\n",
              "13360       oyj   ORG    neutral\n",
              "13584       eur   ORG   negative\n",
              "\n",
              "[163 rows x 3 columns]"
            ],
            "text/html": [
              "\n",
              "  <div id=\"df-542351e6-8b7a-4fe1-bb13-719c37a6d343\">\n",
              "    <div class=\"colab-df-container\">\n",
              "      <div>\n",
              "<style scoped>\n",
              "    .dataframe tbody tr th:only-of-type {\n",
              "        vertical-align: middle;\n",
              "    }\n",
              "\n",
              "    .dataframe tbody tr th {\n",
              "        vertical-align: top;\n",
              "    }\n",
              "\n",
              "    .dataframe thead th {\n",
              "        text-align: right;\n",
              "    }\n",
              "</style>\n",
              "<table border=\"1\" class=\"dataframe\">\n",
              "  <thead>\n",
              "    <tr style=\"text-align: right;\">\n",
              "      <th></th>\n",
              "      <th>Entidades</th>\n",
              "      <th>Label</th>\n",
              "      <th>Sentimento</th>\n",
              "    </tr>\n",
              "  </thead>\n",
              "  <tbody>\n",
              "    <tr>\n",
              "      <th>159</th>\n",
              "      <td>eur</td>\n",
              "      <td>ORG</td>\n",
              "      <td>neutral</td>\n",
              "    </tr>\n",
              "    <tr>\n",
              "      <th>162</th>\n",
              "      <td>eur</td>\n",
              "      <td>ORG</td>\n",
              "      <td>neutral</td>\n",
              "    </tr>\n",
              "    <tr>\n",
              "      <th>166</th>\n",
              "      <td>eur</td>\n",
              "      <td>ORG</td>\n",
              "      <td>neutral</td>\n",
              "    </tr>\n",
              "    <tr>\n",
              "      <th>174</th>\n",
              "      <td>oyj</td>\n",
              "      <td>ORG</td>\n",
              "      <td>neutral</td>\n",
              "    </tr>\n",
              "    <tr>\n",
              "      <th>367</th>\n",
              "      <td>nokia</td>\n",
              "      <td>ORG</td>\n",
              "      <td>neutral</td>\n",
              "    </tr>\n",
              "    <tr>\n",
              "      <th>...</th>\n",
              "      <td>...</td>\n",
              "      <td>...</td>\n",
              "      <td>...</td>\n",
              "    </tr>\n",
              "    <tr>\n",
              "      <th>13173</th>\n",
              "      <td>oyj</td>\n",
              "      <td>ORG</td>\n",
              "      <td>neutral</td>\n",
              "    </tr>\n",
              "    <tr>\n",
              "      <th>13312</th>\n",
              "      <td>eur</td>\n",
              "      <td>ORG</td>\n",
              "      <td>neutral</td>\n",
              "    </tr>\n",
              "    <tr>\n",
              "      <th>13333</th>\n",
              "      <td>nokia</td>\n",
              "      <td>ORG</td>\n",
              "      <td>neutral</td>\n",
              "    </tr>\n",
              "    <tr>\n",
              "      <th>13360</th>\n",
              "      <td>oyj</td>\n",
              "      <td>ORG</td>\n",
              "      <td>neutral</td>\n",
              "    </tr>\n",
              "    <tr>\n",
              "      <th>13584</th>\n",
              "      <td>eur</td>\n",
              "      <td>ORG</td>\n",
              "      <td>negative</td>\n",
              "    </tr>\n",
              "  </tbody>\n",
              "</table>\n",
              "<p>163 rows × 3 columns</p>\n",
              "</div>\n",
              "      <button class=\"colab-df-convert\" onclick=\"convertToInteractive('df-542351e6-8b7a-4fe1-bb13-719c37a6d343')\"\n",
              "              title=\"Convert this dataframe to an interactive table.\"\n",
              "              style=\"display:none;\">\n",
              "        \n",
              "  <svg xmlns=\"http://www.w3.org/2000/svg\" height=\"24px\"viewBox=\"0 0 24 24\"\n",
              "       width=\"24px\">\n",
              "    <path d=\"M0 0h24v24H0V0z\" fill=\"none\"/>\n",
              "    <path d=\"M18.56 5.44l.94 2.06.94-2.06 2.06-.94-2.06-.94-.94-2.06-.94 2.06-2.06.94zm-11 1L8.5 8.5l.94-2.06 2.06-.94-2.06-.94L8.5 2.5l-.94 2.06-2.06.94zm10 10l.94 2.06.94-2.06 2.06-.94-2.06-.94-.94-2.06-.94 2.06-2.06.94z\"/><path d=\"M17.41 7.96l-1.37-1.37c-.4-.4-.92-.59-1.43-.59-.52 0-1.04.2-1.43.59L10.3 9.45l-7.72 7.72c-.78.78-.78 2.05 0 2.83L4 21.41c.39.39.9.59 1.41.59.51 0 1.02-.2 1.41-.59l7.78-7.78 2.81-2.81c.8-.78.8-2.07 0-2.86zM5.41 20L4 18.59l7.72-7.72 1.47 1.35L5.41 20z\"/>\n",
              "  </svg>\n",
              "      </button>\n",
              "      \n",
              "  <style>\n",
              "    .colab-df-container {\n",
              "      display:flex;\n",
              "      flex-wrap:wrap;\n",
              "      gap: 12px;\n",
              "    }\n",
              "\n",
              "    .colab-df-convert {\n",
              "      background-color: #E8F0FE;\n",
              "      border: none;\n",
              "      border-radius: 50%;\n",
              "      cursor: pointer;\n",
              "      display: none;\n",
              "      fill: #1967D2;\n",
              "      height: 32px;\n",
              "      padding: 0 0 0 0;\n",
              "      width: 32px;\n",
              "    }\n",
              "\n",
              "    .colab-df-convert:hover {\n",
              "      background-color: #E2EBFA;\n",
              "      box-shadow: 0px 1px 2px rgba(60, 64, 67, 0.3), 0px 1px 3px 1px rgba(60, 64, 67, 0.15);\n",
              "      fill: #174EA6;\n",
              "    }\n",
              "\n",
              "    [theme=dark] .colab-df-convert {\n",
              "      background-color: #3B4455;\n",
              "      fill: #D2E3FC;\n",
              "    }\n",
              "\n",
              "    [theme=dark] .colab-df-convert:hover {\n",
              "      background-color: #434B5C;\n",
              "      box-shadow: 0px 1px 3px 1px rgba(0, 0, 0, 0.15);\n",
              "      filter: drop-shadow(0px 1px 2px rgba(0, 0, 0, 0.3));\n",
              "      fill: #FFFFFF;\n",
              "    }\n",
              "  </style>\n",
              "\n",
              "      <script>\n",
              "        const buttonEl =\n",
              "          document.querySelector('#df-542351e6-8b7a-4fe1-bb13-719c37a6d343 button.colab-df-convert');\n",
              "        buttonEl.style.display =\n",
              "          google.colab.kernel.accessAllowed ? 'block' : 'none';\n",
              "\n",
              "        async function convertToInteractive(key) {\n",
              "          const element = document.querySelector('#df-542351e6-8b7a-4fe1-bb13-719c37a6d343');\n",
              "          const dataTable =\n",
              "            await google.colab.kernel.invokeFunction('convertToInteractive',\n",
              "                                                     [key], {});\n",
              "          if (!dataTable) return;\n",
              "\n",
              "          const docLinkHtml = 'Like what you see? Visit the ' +\n",
              "            '<a target=\"_blank\" href=https://colab.research.google.com/notebooks/data_table.ipynb>data table notebook</a>'\n",
              "            + ' to learn more about interactive tables.';\n",
              "          element.innerHTML = '';\n",
              "          dataTable['output_type'] = 'display_data';\n",
              "          await google.colab.output.renderOutput(dataTable, element);\n",
              "          const docLink = document.createElement('div');\n",
              "          docLink.innerHTML = docLinkHtml;\n",
              "          element.appendChild(docLink);\n",
              "        }\n",
              "      </script>\n",
              "    </div>\n",
              "  </div>\n",
              "  "
            ]
          },
          "metadata": {},
          "execution_count": 46
        }
      ]
    },
    {
      "cell_type": "markdown",
      "source": [
        "**d. Faça uma tabela onde demonstre as três empresas mais citadas e o total de textos positivos, negativos e neutros de cada uma. (1.2 pontos)**"
      ],
      "metadata": {
        "id": "-bpEaNHqQjc-"
      }
    },
    {
      "cell_type": "code",
      "source": [
        "tabela_resultado = pd.crosstab(empresas.Entidades, empresas.Sentimento)\n",
        "tabela_resultado"
      ],
      "metadata": {
        "colab": {
          "base_uri": "https://localhost:8080/",
          "height": 175
        },
        "id": "1YdNNDgMB8xO",
        "outputId": "b9404b80-8632-47f6-9abc-f313c86a8aa7"
      },
      "execution_count": null,
      "outputs": [
        {
          "output_type": "execute_result",
          "data": {
            "text/plain": [
              "Sentimento  negative  neutral  positive\n",
              "Entidades                              \n",
              "eur                9       24        17\n",
              "nokia              3       30        14\n",
              "oyj               12       34        20"
            ],
            "text/html": [
              "\n",
              "  <div id=\"df-3c7b6b59-baa9-4e43-9660-786d1e5ae6b4\">\n",
              "    <div class=\"colab-df-container\">\n",
              "      <div>\n",
              "<style scoped>\n",
              "    .dataframe tbody tr th:only-of-type {\n",
              "        vertical-align: middle;\n",
              "    }\n",
              "\n",
              "    .dataframe tbody tr th {\n",
              "        vertical-align: top;\n",
              "    }\n",
              "\n",
              "    .dataframe thead th {\n",
              "        text-align: right;\n",
              "    }\n",
              "</style>\n",
              "<table border=\"1\" class=\"dataframe\">\n",
              "  <thead>\n",
              "    <tr style=\"text-align: right;\">\n",
              "      <th>Sentimento</th>\n",
              "      <th>negative</th>\n",
              "      <th>neutral</th>\n",
              "      <th>positive</th>\n",
              "    </tr>\n",
              "    <tr>\n",
              "      <th>Entidades</th>\n",
              "      <th></th>\n",
              "      <th></th>\n",
              "      <th></th>\n",
              "    </tr>\n",
              "  </thead>\n",
              "  <tbody>\n",
              "    <tr>\n",
              "      <th>eur</th>\n",
              "      <td>9</td>\n",
              "      <td>24</td>\n",
              "      <td>17</td>\n",
              "    </tr>\n",
              "    <tr>\n",
              "      <th>nokia</th>\n",
              "      <td>3</td>\n",
              "      <td>30</td>\n",
              "      <td>14</td>\n",
              "    </tr>\n",
              "    <tr>\n",
              "      <th>oyj</th>\n",
              "      <td>12</td>\n",
              "      <td>34</td>\n",
              "      <td>20</td>\n",
              "    </tr>\n",
              "  </tbody>\n",
              "</table>\n",
              "</div>\n",
              "      <button class=\"colab-df-convert\" onclick=\"convertToInteractive('df-3c7b6b59-baa9-4e43-9660-786d1e5ae6b4')\"\n",
              "              title=\"Convert this dataframe to an interactive table.\"\n",
              "              style=\"display:none;\">\n",
              "        \n",
              "  <svg xmlns=\"http://www.w3.org/2000/svg\" height=\"24px\"viewBox=\"0 0 24 24\"\n",
              "       width=\"24px\">\n",
              "    <path d=\"M0 0h24v24H0V0z\" fill=\"none\"/>\n",
              "    <path d=\"M18.56 5.44l.94 2.06.94-2.06 2.06-.94-2.06-.94-.94-2.06-.94 2.06-2.06.94zm-11 1L8.5 8.5l.94-2.06 2.06-.94-2.06-.94L8.5 2.5l-.94 2.06-2.06.94zm10 10l.94 2.06.94-2.06 2.06-.94-2.06-.94-.94-2.06-.94 2.06-2.06.94z\"/><path d=\"M17.41 7.96l-1.37-1.37c-.4-.4-.92-.59-1.43-.59-.52 0-1.04.2-1.43.59L10.3 9.45l-7.72 7.72c-.78.78-.78 2.05 0 2.83L4 21.41c.39.39.9.59 1.41.59.51 0 1.02-.2 1.41-.59l7.78-7.78 2.81-2.81c.8-.78.8-2.07 0-2.86zM5.41 20L4 18.59l7.72-7.72 1.47 1.35L5.41 20z\"/>\n",
              "  </svg>\n",
              "      </button>\n",
              "      \n",
              "  <style>\n",
              "    .colab-df-container {\n",
              "      display:flex;\n",
              "      flex-wrap:wrap;\n",
              "      gap: 12px;\n",
              "    }\n",
              "\n",
              "    .colab-df-convert {\n",
              "      background-color: #E8F0FE;\n",
              "      border: none;\n",
              "      border-radius: 50%;\n",
              "      cursor: pointer;\n",
              "      display: none;\n",
              "      fill: #1967D2;\n",
              "      height: 32px;\n",
              "      padding: 0 0 0 0;\n",
              "      width: 32px;\n",
              "    }\n",
              "\n",
              "    .colab-df-convert:hover {\n",
              "      background-color: #E2EBFA;\n",
              "      box-shadow: 0px 1px 2px rgba(60, 64, 67, 0.3), 0px 1px 3px 1px rgba(60, 64, 67, 0.15);\n",
              "      fill: #174EA6;\n",
              "    }\n",
              "\n",
              "    [theme=dark] .colab-df-convert {\n",
              "      background-color: #3B4455;\n",
              "      fill: #D2E3FC;\n",
              "    }\n",
              "\n",
              "    [theme=dark] .colab-df-convert:hover {\n",
              "      background-color: #434B5C;\n",
              "      box-shadow: 0px 1px 3px 1px rgba(0, 0, 0, 0.15);\n",
              "      filter: drop-shadow(0px 1px 2px rgba(0, 0, 0, 0.3));\n",
              "      fill: #FFFFFF;\n",
              "    }\n",
              "  </style>\n",
              "\n",
              "      <script>\n",
              "        const buttonEl =\n",
              "          document.querySelector('#df-3c7b6b59-baa9-4e43-9660-786d1e5ae6b4 button.colab-df-convert');\n",
              "        buttonEl.style.display =\n",
              "          google.colab.kernel.accessAllowed ? 'block' : 'none';\n",
              "\n",
              "        async function convertToInteractive(key) {\n",
              "          const element = document.querySelector('#df-3c7b6b59-baa9-4e43-9660-786d1e5ae6b4');\n",
              "          const dataTable =\n",
              "            await google.colab.kernel.invokeFunction('convertToInteractive',\n",
              "                                                     [key], {});\n",
              "          if (!dataTable) return;\n",
              "\n",
              "          const docLinkHtml = 'Like what you see? Visit the ' +\n",
              "            '<a target=\"_blank\" href=https://colab.research.google.com/notebooks/data_table.ipynb>data table notebook</a>'\n",
              "            + ' to learn more about interactive tables.';\n",
              "          element.innerHTML = '';\n",
              "          dataTable['output_type'] = 'display_data';\n",
              "          await google.colab.output.renderOutput(dataTable, element);\n",
              "          const docLink = document.createElement('div');\n",
              "          docLink.innerHTML = docLinkHtml;\n",
              "          element.appendChild(docLink);\n",
              "        }\n",
              "      </script>\n",
              "    </div>\n",
              "  </div>\n",
              "  "
            ]
          },
          "metadata": {},
          "execution_count": 47
        }
      ]
    },
    {
      "cell_type": "markdown",
      "source": [
        "##Exercício 4\n",
        "Faça gráficos a partir da tabela obtida acima. \n",
        "\n",
        "Descreva cada gráfico de forma que estivesse apresentando à diretoria dessas três empresas. (3.0 pontos)"
      ],
      "metadata": {
        "id": "Xmxyjqat6dZ2"
      }
    },
    {
      "cell_type": "markdown",
      "source": [
        "Primeiramente vou apresentar uma visão geral do do nosso projeto, olhando para as 3 empresas selecionadas quais os sentimentos de cada uma. \n",
        "\n",
        "Importante ressaltar que as empresas que eu peguei foram as empresas que a biblioteca classificou como \"ORG\", talvez fosse necessário fazer uma varredura melhor nesses textos, aprimorar a leitura das entidades \"ORG\", mas isso é bem complexo e será feito em outras etapas, aqui vou focar nos resultados já obtidos."
      ],
      "metadata": {
        "id": "V0DqQFHS4qfZ"
      }
    },
    {
      "cell_type": "markdown",
      "source": [
        "Para uma melhor compreensão nesse primeiro momento, onde olharemos todas as empresas juntas para cada sentimento, vamos utilizar os números em porcentagem, assim ficará melhor de comparar as 3 empresas.\n",
        "\n",
        "Caso usássemos os valores brutos não teríamos a real dimensão do resultado, pois o valor total de cada uma é diferente, dessa maneira, em porcentagem, podemos ver qual performou melhor em cada caso."
      ],
      "metadata": {
        "id": "gIgYZFSIBi-4"
      }
    },
    {
      "cell_type": "code",
      "source": [
        "tabela_percent = pd.crosstab(empresas.Entidades, empresas.Sentimento,normalize='index')\n",
        "tabela_percent"
      ],
      "metadata": {
        "colab": {
          "base_uri": "https://localhost:8080/",
          "height": 175
        },
        "id": "xiDzmil9Cu1o",
        "outputId": "aa24866e-326b-4f23-8ed5-2150dfcb805a"
      },
      "execution_count": null,
      "outputs": [
        {
          "output_type": "execute_result",
          "data": {
            "text/plain": [
              "Sentimento  negative   neutral  positive\n",
              "Entidades                               \n",
              "eur         0.180000  0.480000  0.340000\n",
              "nokia       0.063830  0.638298  0.297872\n",
              "oyj         0.181818  0.515152  0.303030"
            ],
            "text/html": [
              "\n",
              "  <div id=\"df-1eb625b5-f59a-4cbf-920e-a1ffc510be70\">\n",
              "    <div class=\"colab-df-container\">\n",
              "      <div>\n",
              "<style scoped>\n",
              "    .dataframe tbody tr th:only-of-type {\n",
              "        vertical-align: middle;\n",
              "    }\n",
              "\n",
              "    .dataframe tbody tr th {\n",
              "        vertical-align: top;\n",
              "    }\n",
              "\n",
              "    .dataframe thead th {\n",
              "        text-align: right;\n",
              "    }\n",
              "</style>\n",
              "<table border=\"1\" class=\"dataframe\">\n",
              "  <thead>\n",
              "    <tr style=\"text-align: right;\">\n",
              "      <th>Sentimento</th>\n",
              "      <th>negative</th>\n",
              "      <th>neutral</th>\n",
              "      <th>positive</th>\n",
              "    </tr>\n",
              "    <tr>\n",
              "      <th>Entidades</th>\n",
              "      <th></th>\n",
              "      <th></th>\n",
              "      <th></th>\n",
              "    </tr>\n",
              "  </thead>\n",
              "  <tbody>\n",
              "    <tr>\n",
              "      <th>eur</th>\n",
              "      <td>0.180000</td>\n",
              "      <td>0.480000</td>\n",
              "      <td>0.340000</td>\n",
              "    </tr>\n",
              "    <tr>\n",
              "      <th>nokia</th>\n",
              "      <td>0.063830</td>\n",
              "      <td>0.638298</td>\n",
              "      <td>0.297872</td>\n",
              "    </tr>\n",
              "    <tr>\n",
              "      <th>oyj</th>\n",
              "      <td>0.181818</td>\n",
              "      <td>0.515152</td>\n",
              "      <td>0.303030</td>\n",
              "    </tr>\n",
              "  </tbody>\n",
              "</table>\n",
              "</div>\n",
              "      <button class=\"colab-df-convert\" onclick=\"convertToInteractive('df-1eb625b5-f59a-4cbf-920e-a1ffc510be70')\"\n",
              "              title=\"Convert this dataframe to an interactive table.\"\n",
              "              style=\"display:none;\">\n",
              "        \n",
              "  <svg xmlns=\"http://www.w3.org/2000/svg\" height=\"24px\"viewBox=\"0 0 24 24\"\n",
              "       width=\"24px\">\n",
              "    <path d=\"M0 0h24v24H0V0z\" fill=\"none\"/>\n",
              "    <path d=\"M18.56 5.44l.94 2.06.94-2.06 2.06-.94-2.06-.94-.94-2.06-.94 2.06-2.06.94zm-11 1L8.5 8.5l.94-2.06 2.06-.94-2.06-.94L8.5 2.5l-.94 2.06-2.06.94zm10 10l.94 2.06.94-2.06 2.06-.94-2.06-.94-.94-2.06-.94 2.06-2.06.94z\"/><path d=\"M17.41 7.96l-1.37-1.37c-.4-.4-.92-.59-1.43-.59-.52 0-1.04.2-1.43.59L10.3 9.45l-7.72 7.72c-.78.78-.78 2.05 0 2.83L4 21.41c.39.39.9.59 1.41.59.51 0 1.02-.2 1.41-.59l7.78-7.78 2.81-2.81c.8-.78.8-2.07 0-2.86zM5.41 20L4 18.59l7.72-7.72 1.47 1.35L5.41 20z\"/>\n",
              "  </svg>\n",
              "      </button>\n",
              "      \n",
              "  <style>\n",
              "    .colab-df-container {\n",
              "      display:flex;\n",
              "      flex-wrap:wrap;\n",
              "      gap: 12px;\n",
              "    }\n",
              "\n",
              "    .colab-df-convert {\n",
              "      background-color: #E8F0FE;\n",
              "      border: none;\n",
              "      border-radius: 50%;\n",
              "      cursor: pointer;\n",
              "      display: none;\n",
              "      fill: #1967D2;\n",
              "      height: 32px;\n",
              "      padding: 0 0 0 0;\n",
              "      width: 32px;\n",
              "    }\n",
              "\n",
              "    .colab-df-convert:hover {\n",
              "      background-color: #E2EBFA;\n",
              "      box-shadow: 0px 1px 2px rgba(60, 64, 67, 0.3), 0px 1px 3px 1px rgba(60, 64, 67, 0.15);\n",
              "      fill: #174EA6;\n",
              "    }\n",
              "\n",
              "    [theme=dark] .colab-df-convert {\n",
              "      background-color: #3B4455;\n",
              "      fill: #D2E3FC;\n",
              "    }\n",
              "\n",
              "    [theme=dark] .colab-df-convert:hover {\n",
              "      background-color: #434B5C;\n",
              "      box-shadow: 0px 1px 3px 1px rgba(0, 0, 0, 0.15);\n",
              "      filter: drop-shadow(0px 1px 2px rgba(0, 0, 0, 0.3));\n",
              "      fill: #FFFFFF;\n",
              "    }\n",
              "  </style>\n",
              "\n",
              "      <script>\n",
              "        const buttonEl =\n",
              "          document.querySelector('#df-1eb625b5-f59a-4cbf-920e-a1ffc510be70 button.colab-df-convert');\n",
              "        buttonEl.style.display =\n",
              "          google.colab.kernel.accessAllowed ? 'block' : 'none';\n",
              "\n",
              "        async function convertToInteractive(key) {\n",
              "          const element = document.querySelector('#df-1eb625b5-f59a-4cbf-920e-a1ffc510be70');\n",
              "          const dataTable =\n",
              "            await google.colab.kernel.invokeFunction('convertToInteractive',\n",
              "                                                     [key], {});\n",
              "          if (!dataTable) return;\n",
              "\n",
              "          const docLinkHtml = 'Like what you see? Visit the ' +\n",
              "            '<a target=\"_blank\" href=https://colab.research.google.com/notebooks/data_table.ipynb>data table notebook</a>'\n",
              "            + ' to learn more about interactive tables.';\n",
              "          element.innerHTML = '';\n",
              "          dataTable['output_type'] = 'display_data';\n",
              "          await google.colab.output.renderOutput(dataTable, element);\n",
              "          const docLink = document.createElement('div');\n",
              "          docLink.innerHTML = docLinkHtml;\n",
              "          element.appendChild(docLink);\n",
              "        }\n",
              "      </script>\n",
              "    </div>\n",
              "  </div>\n",
              "  "
            ]
          },
          "metadata": {},
          "execution_count": 48
        }
      ]
    },
    {
      "cell_type": "markdown",
      "source": [
        "Vamos começar olhando 2 tipos gráficos baseados na tabela do exercício 3, nos prímeros vamos comparar como cada empresa se comportou em cada sentimento, no segundo como cada sentimento se comportou em cada empresa."
      ],
      "metadata": {
        "id": "yt1Rl--f5ZXa"
      }
    },
    {
      "cell_type": "code",
      "source": [
        "plt.figure(figsize=(20,5))\n",
        "\n",
        "plt.subplot(1, 3, 1) \n",
        "tabela_percent['negative'].plot.barh(color=[\"lightcoral\",\"indianred\",\"brown\"])\n",
        "plt.title('Sentimento Negativo (%)'.upper(), fontsize=12) \n",
        "\n",
        "plt.subplot(1, 3, 2) \n",
        "tabela_percent['neutral'].plot.barh(color=[\"lightcoral\",\"indianred\",\"brown\"])\n",
        "plt.title('Sentimento Neutro (%)'.upper(), fontsize=12) \n",
        "\n",
        "plt.subplot(1, 3, 3) \n",
        "tabela_percent['positive'].plot.barh(color=[\"lightcoral\",\"indianred\",\"brown\"])\n",
        "plt.title('Sentimento Positivo (%)'.upper(), fontsize=12) "
      ],
      "metadata": {
        "colab": {
          "base_uri": "https://localhost:8080/",
          "height": 354
        },
        "id": "W_bSp48uEHX8",
        "outputId": "2af31a72-e160-4f59-9ff6-f492b7be75b1"
      },
      "execution_count": null,
      "outputs": [
        {
          "output_type": "execute_result",
          "data": {
            "text/plain": [
              "Text(0.5, 1.0, 'SENTIMENTO POSITIVO (%)')"
            ]
          },
          "metadata": {},
          "execution_count": 54
        },
        {
          "output_type": "display_data",
          "data": {
            "text/plain": [
              "<Figure size 1440x360 with 3 Axes>"
            ],
            "image/png": "[encoded data removed]"
          },
          "metadata": {
            "needs_background": "light"
          }
        }
      ]
    },
    {
      "cell_type": "markdown",
      "source": [
        "Neste gráfico divimos em 3 sentimentos:\n",
        "- Negativo, quando o nome da empresa está em uma frase que foi classificada negativamente, isso quer dizer que pode ser alguma crítica ruim para a empresa.\n",
        "- Neutro, quando o nome da empresa esta associada a alguma mensagem neutra, nem positivamente, nem negativamente, algum comentário sobre algum produto ou serviço.\n",
        "- Positivo, quando o nome da empresa foi citada em algum elogio, falando bem de algo que a empresa fez, algo que pode agregar para a empresa, pode aumentar a credibilidade em relação aos seus clientes. "
      ],
      "metadata": {
        "id": "0pmDKZsX8AJ6"
      }
    },
    {
      "cell_type": "markdown",
      "source": [
        "Então, depois ver o que cada sentimento significa podemos analisar os dados obtidos. Como podemos ver a empresa NOKIA foi em disparado a empresa que menos teve incidência em relação aos comentários negativos, enquanto as outras duas ficaram bem parecidas percentualmente. Em um resumo, a empresa NOKIA foi a que se saiu melhor nessa nossa primeira análise."
      ],
      "metadata": {
        "id": "6al0WJ6ULBe8"
      }
    },
    {
      "cell_type": "markdown",
      "source": [
        "Agora vamos olhar cada empresa separadamente, em número brutos."
      ],
      "metadata": {
        "id": "_SVDkNzVL4xK"
      }
    },
    {
      "cell_type": "code",
      "source": [
        "graficos = pd.crosstab(empresas.Sentimento,empresas.Entidades)\n",
        "graficos"
      ],
      "metadata": {
        "colab": {
          "base_uri": "https://localhost:8080/",
          "height": 175
        },
        "id": "lO6NIRjTuyR4",
        "outputId": "f73a0c16-29d0-40a0-8cf1-211b06f0434b"
      },
      "execution_count": null,
      "outputs": [
        {
          "output_type": "execute_result",
          "data": {
            "text/plain": [
              "Entidades   eur  nokia  oyj\n",
              "Sentimento                 \n",
              "negative      9      3   12\n",
              "neutral      24     30   34\n",
              "positive     17     14   20"
            ],
            "text/html": [
              "\n",
              "  <div id=\"df-1dc669c6-29ce-4497-9567-7fe5ba223a46\">\n",
              "    <div class=\"colab-df-container\">\n",
              "      <div>\n",
              "<style scoped>\n",
              "    .dataframe tbody tr th:only-of-type {\n",
              "        vertical-align: middle;\n",
              "    }\n",
              "\n",
              "    .dataframe tbody tr th {\n",
              "        vertical-align: top;\n",
              "    }\n",
              "\n",
              "    .dataframe thead th {\n",
              "        text-align: right;\n",
              "    }\n",
              "</style>\n",
              "<table border=\"1\" class=\"dataframe\">\n",
              "  <thead>\n",
              "    <tr style=\"text-align: right;\">\n",
              "      <th>Entidades</th>\n",
              "      <th>eur</th>\n",
              "      <th>nokia</th>\n",
              "      <th>oyj</th>\n",
              "    </tr>\n",
              "    <tr>\n",
              "      <th>Sentimento</th>\n",
              "      <th></th>\n",
              "      <th></th>\n",
              "      <th></th>\n",
              "    </tr>\n",
              "  </thead>\n",
              "  <tbody>\n",
              "    <tr>\n",
              "      <th>negative</th>\n",
              "      <td>9</td>\n",
              "      <td>3</td>\n",
              "      <td>12</td>\n",
              "    </tr>\n",
              "    <tr>\n",
              "      <th>neutral</th>\n",
              "      <td>24</td>\n",
              "      <td>30</td>\n",
              "      <td>34</td>\n",
              "    </tr>\n",
              "    <tr>\n",
              "      <th>positive</th>\n",
              "      <td>17</td>\n",
              "      <td>14</td>\n",
              "      <td>20</td>\n",
              "    </tr>\n",
              "  </tbody>\n",
              "</table>\n",
              "</div>\n",
              "      <button class=\"colab-df-convert\" onclick=\"convertToInteractive('df-1dc669c6-29ce-4497-9567-7fe5ba223a46')\"\n",
              "              title=\"Convert this dataframe to an interactive table.\"\n",
              "              style=\"display:none;\">\n",
              "        \n",
              "  <svg xmlns=\"http://www.w3.org/2000/svg\" height=\"24px\"viewBox=\"0 0 24 24\"\n",
              "       width=\"24px\">\n",
              "    <path d=\"M0 0h24v24H0V0z\" fill=\"none\"/>\n",
              "    <path d=\"M18.56 5.44l.94 2.06.94-2.06 2.06-.94-2.06-.94-.94-2.06-.94 2.06-2.06.94zm-11 1L8.5 8.5l.94-2.06 2.06-.94-2.06-.94L8.5 2.5l-.94 2.06-2.06.94zm10 10l.94 2.06.94-2.06 2.06-.94-2.06-.94-.94-2.06-.94 2.06-2.06.94z\"/><path d=\"M17.41 7.96l-1.37-1.37c-.4-.4-.92-.59-1.43-.59-.52 0-1.04.2-1.43.59L10.3 9.45l-7.72 7.72c-.78.78-.78 2.05 0 2.83L4 21.41c.39.39.9.59 1.41.59.51 0 1.02-.2 1.41-.59l7.78-7.78 2.81-2.81c.8-.78.8-2.07 0-2.86zM5.41 20L4 18.59l7.72-7.72 1.47 1.35L5.41 20z\"/>\n",
              "  </svg>\n",
              "      </button>\n",
              "      \n",
              "  <style>\n",
              "    .colab-df-container {\n",
              "      display:flex;\n",
              "      flex-wrap:wrap;\n",
              "      gap: 12px;\n",
              "    }\n",
              "\n",
              "    .colab-df-convert {\n",
              "      background-color: #E8F0FE;\n",
              "      border: none;\n",
              "      border-radius: 50%;\n",
              "      cursor: pointer;\n",
              "      display: none;\n",
              "      fill: #1967D2;\n",
              "      height: 32px;\n",
              "      padding: 0 0 0 0;\n",
              "      width: 32px;\n",
              "    }\n",
              "\n",
              "    .colab-df-convert:hover {\n",
              "      background-color: #E2EBFA;\n",
              "      box-shadow: 0px 1px 2px rgba(60, 64, 67, 0.3), 0px 1px 3px 1px rgba(60, 64, 67, 0.15);\n",
              "      fill: #174EA6;\n",
              "    }\n",
              "\n",
              "    [theme=dark] .colab-df-convert {\n",
              "      background-color: #3B4455;\n",
              "      fill: #D2E3FC;\n",
              "    }\n",
              "\n",
              "    [theme=dark] .colab-df-convert:hover {\n",
              "      background-color: #434B5C;\n",
              "      box-shadow: 0px 1px 3px 1px rgba(0, 0, 0, 0.15);\n",
              "      filter: drop-shadow(0px 1px 2px rgba(0, 0, 0, 0.3));\n",
              "      fill: #FFFFFF;\n",
              "    }\n",
              "  </style>\n",
              "\n",
              "      <script>\n",
              "        const buttonEl =\n",
              "          document.querySelector('#df-1dc669c6-29ce-4497-9567-7fe5ba223a46 button.colab-df-convert');\n",
              "        buttonEl.style.display =\n",
              "          google.colab.kernel.accessAllowed ? 'block' : 'none';\n",
              "\n",
              "        async function convertToInteractive(key) {\n",
              "          const element = document.querySelector('#df-1dc669c6-29ce-4497-9567-7fe5ba223a46');\n",
              "          const dataTable =\n",
              "            await google.colab.kernel.invokeFunction('convertToInteractive',\n",
              "                                                     [key], {});\n",
              "          if (!dataTable) return;\n",
              "\n",
              "          const docLinkHtml = 'Like what you see? Visit the ' +\n",
              "            '<a target=\"_blank\" href=https://colab.research.google.com/notebooks/data_table.ipynb>data table notebook</a>'\n",
              "            + ' to learn more about interactive tables.';\n",
              "          element.innerHTML = '';\n",
              "          dataTable['output_type'] = 'display_data';\n",
              "          await google.colab.output.renderOutput(dataTable, element);\n",
              "          const docLink = document.createElement('div');\n",
              "          docLink.innerHTML = docLinkHtml;\n",
              "          element.appendChild(docLink);\n",
              "        }\n",
              "      </script>\n",
              "    </div>\n",
              "  </div>\n",
              "  "
            ]
          },
          "metadata": {},
          "execution_count": 50
        }
      ]
    },
    {
      "cell_type": "markdown",
      "source": [
        "Para fazer uma apresentação dos dados obtidos por cada empresa, utilizamos o gráfico de barras na horizontal. Em verde escuro podemos ver a quantidade de comentários positivos que tem envolvida a empresa, em verde um pouco mais claro os comentários neutros e em verde claro os comentários negativos.\n",
        "\n",
        "Estes são indicativos que podemos usar para entender como os nosso clientes estão vendo os nossos serviços e nossos produtos, como todos sabem é muito comum os clientes procurarem por feedbacks em sites de busca para saber se podemos confiar em uma empresa ou não, então aqui podemos ver estes números para saber como melhorar a nosso performance."
      ],
      "metadata": {
        "id": "o2zf05JIMD3n"
      }
    },
    {
      "cell_type": "markdown",
      "source": [
        "**Começaremos com a empresa EUR:**"
      ],
      "metadata": {
        "id": "LOhA5u6QL-LP"
      }
    },
    {
      "cell_type": "code",
      "source": [
        "plt.figure(figsize=(10,5))\n",
        "graficos['eur'].plot.barh(color=[\"mediumaquamarine\",\"mediumseagreen\",\"g\"])\n",
        "plt.title('Empresa EUR'.upper(), fontsize=12) "
      ],
      "metadata": {
        "colab": {
          "base_uri": "https://localhost:8080/",
          "height": 354
        },
        "id": "rCYHWed8GjoX",
        "outputId": "b5f9c6a6-e1bd-401d-915c-ca7ced883f41"
      },
      "execution_count": null,
      "outputs": [
        {
          "output_type": "execute_result",
          "data": {
            "text/plain": [
              "Text(0.5, 1.0, 'EMPRESA EUR')"
            ]
          },
          "metadata": {},
          "execution_count": 51
        },
        {
          "output_type": "display_data",
          "data": {
            "text/plain": [
              "<Figure size 720x360 with 1 Axes>"
            ],
            "image/png": "[encoded data removed]"
          },
          "metadata": {
            "needs_background": "light"
          }
        }
      ]
    },
    {
      "cell_type": "markdown",
      "source": [
        "A empresa 'EUR' teve um número bastante significativos de comentários ruins, que chamaremos de reclamações. Iremos considerar que precisamos olhar comentário por comentário, procurar quais as causas para estes comentário e a partir disso procurar por soluções. O objetivo é buscar sempre zerar os comentários negativos, porém sabemos que isso é praticamente impossível, sempre haverá descuidos, mas temos que trabalhar para minimizar esses erros ao máximo."
      ],
      "metadata": {
        "id": "dZiubNZeNWjP"
      }
    },
    {
      "cell_type": "code",
      "source": [
        "plt.figure(figsize=(10,5))\n",
        "graficos['nokia'].plot.barh(color=[\"mediumaquamarine\",\"mediumseagreen\",\"g\"])\n",
        "plt.title('Empresa NOKIA'.upper(), fontsize=12) "
      ],
      "metadata": {
        "colab": {
          "base_uri": "https://localhost:8080/",
          "height": 354
        },
        "id": "Vg80yhaoGlR9",
        "outputId": "c13c748c-ca1c-4300-b3da-3ff6e40d6c01"
      },
      "execution_count": null,
      "outputs": [
        {
          "output_type": "execute_result",
          "data": {
            "text/plain": [
              "Text(0.5, 1.0, 'EMPRESA NOKIA')"
            ]
          },
          "metadata": {},
          "execution_count": 52
        },
        {
          "output_type": "display_data",
          "data": {
            "text/plain": [
              "<Figure size 720x360 with 1 Axes>"
            ],
            "image/png": "[encoded data removed]"
          },
          "metadata": {
            "needs_background": "light"
          }
        }
      ]
    },
    {
      "cell_type": "markdown",
      "source": [
        "A empresa 'NOKIA' teve uma performance muito boa, chegando a apenas 3 comentários negativos em suas críticas. Porém mesmo assim, os comentários negativos sempre devem ser trabalhados, nesse caso podemos ver quais seriam estas reclamações, entender se os problemas já são recorrentes ou são casos específicos, se forem casos recorrentes podemos tentar entender o porque não foram solucionados anteriormente, quais as ações tomadas, entender se foram efetivas e tentar atacar elas novamente. Se forem casos específico é importante mapear, entender se podem acontecer novamente, e manter um acompanhamento mais de perto. \n",
        "\n",
        "Aqui neste caso tivemos muitos comentários neutros, como foram muitas incidências poderíamos pegar uma amostra, olhar cada um deles separados, entender o que faltou para serem positivos, e se possível trabalhar para melhora-los nas próximas críticas. "
      ],
      "metadata": {
        "id": "YYn0jYGQOE2e"
      }
    },
    {
      "cell_type": "code",
      "source": [
        "plt.figure(figsize=(10,5))\n",
        "graficos['oyj'].plot.barh(color=[\"mediumaquamarine\",\"mediumseagreen\",\"g\"])\n",
        "plt.title('Empresa OYJ'.upper(), fontsize=12) "
      ],
      "metadata": {
        "colab": {
          "base_uri": "https://localhost:8080/",
          "height": 354
        },
        "id": "zVt1gFG9GmlV",
        "outputId": "8ce4d061-6e46-429f-8a3a-ec68252d81e9"
      },
      "execution_count": null,
      "outputs": [
        {
          "output_type": "execute_result",
          "data": {
            "text/plain": [
              "Text(0.5, 1.0, 'EMPRESA OYJ')"
            ]
          },
          "metadata": {},
          "execution_count": 53
        },
        {
          "output_type": "display_data",
          "data": {
            "text/plain": [
              "<Figure size 720x360 with 1 Axes>"
            ],
            "image/png": "[encoded data removed]"
          },
          "metadata": {
            "needs_background": "light"
          }
        }
      ]
    },
    {
      "cell_type": "markdown",
      "source": [
        "A empresa 'OYJ' teve um número bastante significativos de comentários ruins, que chamaremos de reclamações. Iremos considerar que precisamos olhar comentário por comentário, procurar quais as causas para estes comentário e a partir disso procurar por soluções. \n",
        "\n",
        "Entender se estas reclamações já ocorreram anteriormente, procurar entender se já foram tomadas ações em cima destas, se não, fazer um mapeamento completo do porque estão ocorrendo. Estas são as principais medidas que podem ser tomadas neste momento, quando conseguirmos diminuir os comentário negativos, podemos começar a atacar os comentários neutros."
      ],
      "metadata": {
        "id": "ycJjM0NYPGuc"
      }
    },
    {
      "cell_type": "markdown",
      "source": [
        "#Conclusão\n",
        "\n",
        "Desta maneira chegamos ao fim do nosso projeto, entendemos que precisamos de melhorias, este é o primeiro caso estudado, com mais experiência, ajuda de especialistas, poderemos aumentar ainda mais o nosso nível de precisão. O objetivo é sempre melhorar nossas análises, não podemos nos conter com o básico, buscar melhorias contínuas, assim os erros irão diminuir ao máximo."
      ],
      "metadata": {
        "id": "BfMpFHFPPrg6"
      }
    }
  ]
}